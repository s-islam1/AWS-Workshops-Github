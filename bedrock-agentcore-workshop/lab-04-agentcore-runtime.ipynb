{
 "cells": [
  {
   "cell_type": "markdown",
   "id": "5c0122e65c053f38",
   "metadata": {
    "editable": true,
    "slideshow": {
     "slide_type": ""
    },
    "tags": []
   },
   "source": [
    "## Lab 4: Deploy to Production - Use AgentCore Runtime with Observability\n",
    "\n",
    "### Overview\n",
    "\n",
    "In Lab 3 we scaled our Customer Support Agent by centralizing tools through AgentCore Gateway with secure authentication. Now we'll complete the production journey by deploying our agent to AgentCore Runtime with comprehensive observability. This will transform our prototype into a production-ready system that can handle real-world traffic with full monitoring and automatic scaling.\n",
    "\n",
    "[Amazon Bedrock AgentCore Runtime](https://docs.aws.amazon.com/bedrock-agentcore/latest/devguide/agents-tools-runtime.html) is a secure, fully managed runtime that empowers organizations to deploy and scale AI agents in production, regardless of framework, protocol, or model choice. It provides enterprise-grade reliability, automatic scaling, and comprehensive monitoring capabilities.\n",
    "\n",
    "**Workshop Journey:**\n",
    "\n",
    "- **Lab 1 (Done):** Create Agent Prototype - Built a functional customer support agent\n",
    "- **Lab 2 (Done):** Enhance with Memory - Added conversation context and personalization\n",
    "- **Lab 3 (Done):** Scale with Gateway & Identity - Shared tools across agents securely\n",
    "- **Lab 4 (Current):** Deploy to Production - Used AgentCore Runtime with observability\n",
    "- **Lab 5:** Build User Interface - Create a customer-facing application\n",
    "\n",
    "### Why AgentCore Runtime & Production Deployment Matter\n",
    "\n",
    "Current State (Lab 1-3): Agent runs locally with centralized tools but faces production challenges:\n",
    "\n",
    "- Agent runs locally in a single session\n",
    "- No comprehensive monitoring or debugging capabilities\n",
    "- Cannot handle multiple concurrent users reliably\n",
    "\n",
    "After this lab, we will have a production-ready agent infrastructure with:\n",
    "\n",
    "- Serverless auto-scaling to handle variable demand\n",
    "- Comprehensive observability with traces, metrics, and logging\n",
    "- Enterprise reliability with automatic error recovery\n",
    "- Secure deployment with proper access controls\n",
    "- Easy management through AWS console and APIs and support for real-world production workloads.\n",
    "\n",
    "\n",
    "### Adding comprehensive observability with AgentCore Observability\n",
    "\n",
    "Additionally, AgentCore Runtime integrates seamlessly with [AgentCore Observability](https://docs.aws.amazon.com/bedrock-agentcore/latest/devguide/observability.html) to provide full visibility into your agent's behavior in production. AgentCore Observability automatically captures traces, metrics, and logs from your agent interactions, tool usage, and memory access patterns. In this lab we will see how AgentCore Runtime integrates with CloudWatch GenAI Observability to provide comprehensive monitoring and debugging capabilities.\n",
    "\n",
    "For request tracing, AgentCore Observability captures the complete conversation flow including tool invocations, memory retrievals, and model interactions. For performance monitoring, it tracks response times, success rates, and resource utilization to help optimize your agent's performance.\n",
    "\n",
    "During the observability flow, AgentCore Runtime automatically instruments your agent code and sends telemetry data to CloudWatch. You can then use CloudWatch dashboards and GenAI Observability features to analyze patterns, identify bottlenecks, and troubleshoot issues in real-time.\n",
    "\n",
    "### Architecture for Lab 4\n",
    "<div style=\"text-align:left\"> \n",
    "    <img src=\"images/architecture_lab4_runtime.png\" width=\"75%\"/> \n",
    "</div>\n",
    "\n",
    "*Agent now runs in AgentCore Runtime with full observability through CloudWatch, serving production traffic with auto-scaling and comprehensive monitoring. Memory and Gateway integrations from previous labs remain fully functional in the production environment.*\n",
    "\n",
    "### Key Features\n",
    "\n",
    "- **Serverless Agent Deployment:** Transform your local agent into a scalable production service using AgentCore Runtime with minimal code changes\n",
    "- **Comprehensive Observability:** Full request tracing, performance metrics, and debugging capabilities through CloudWatch GenAI Observability\n",
    "\n",
    "### Prerequisites\n",
    "\n",
    "- Python 3.12+\n",
    "- AWS account with appropriate permissions\n",
    "- Docker, Finch or Podman installed and running\n",
    "- Amazon Bedrock AgentCore SDK\n",
    "- Strands Agents framework\n",
    "- **Lab 3 Completion:** This lab builds on Lab 3 (AgentCore Gateway). You MUST run [lab-03-agentcore-gateway](lab-03-agentcore-gateway.ipynb) to provision the gateway before running this lab.\n",
    "\n",
    "**Note**: You MUST enable [CloudWatch Transaction Search](https://docs.aws.amazon.com/AmazonCloudWatch/latest/monitoring/Enable-TransactionSearch.html) to be able to see AgentCore Observability traces in CloudWatch.\n"
   ]
  },
  {
   "cell_type": "markdown",
   "id": "d867d862-3b01-4b97-ac00-0ff38ff57fc0",
   "metadata": {},
   "source": [
    "### Step 1: Import Required Libraries"
   ]
  },
  {
   "cell_type": "code",
   "execution_count": 1,
   "id": "aa06404e",
   "metadata": {
    "execution": {
     "iopub.execute_input": "2025-10-24T18:46:11.628303Z",
     "iopub.status.busy": "2025-10-24T18:46:11.628051Z",
     "iopub.status.idle": "2025-10-24T18:46:12.562276Z",
     "shell.execute_reply": "2025-10-24T18:46:12.561796Z",
     "shell.execute_reply.started": "2025-10-24T18:46:11.628282Z"
    }
   },
   "outputs": [
    {
     "data": {
      "text/plain": [
       "'CustomerSupportMemory-LY7ZAXChAk'"
      ]
     },
     "execution_count": 1,
     "metadata": {},
     "output_type": "execute_result"
    }
   ],
   "source": [
    "# Import required libraries\n",
    "import boto3\n",
    "from lab_helpers.utils import get_ssm_parameter\n",
    "from lab_helpers.lab2_memory import create_or_get_memory_resource\n",
    "\n",
    "create_or_get_memory_resource()  # Just in case the memory lab wasn't executed"
   ]
  },
  {
   "cell_type": "markdown",
   "id": "6820ca8f-a8a8-4f34-b4ef-b6dad3776261",
   "metadata": {},
   "source": [
    "### Step 2: Preparing Your Agent for AgentCore Runtime\n",
    "\n",
    "#### Creating the Runtime-Ready Agent\n",
    "\n",
    "Let's first define the necessary AgentCore Runtime components via Python SDK within our previous local agent implementation.\n",
    "\n",
    "Observe the #### AGENTCORE RUNTIME - LINE 1 #### comments below to see where is the relevant deployment code added. You'll find 4 such lines that prepare the runtime-ready agent:\n",
    "\n",
    "1. Import the Runtime App with `from bedrock_agentcore.runtime import BedrockAgentCoreApp`\n",
    "2. Initialize the App with `app = BedrockAgentCoreApp()`\n",
    "3. Decorate our invocation function with `@app.entrypoint`\n",
    "4. Let AgentCore Runtime control the execution with `app.run()`\n",
    "\n",
    "##### Key Implementation Details:\n",
    "\n",
    "The runtime-ready agent uses an entrypoint function that extracts user prompts from the payload and JWT tokens from request headers via \n",
    "context.request_headers.get('Authorization', ''). The authorization token is then propagated directly to the AgentCore Gateway by passing it in the \n",
    "MCP client headers: headers={\"Authorization\": auth_header}. The implementation includes error handling for missing authentication and returns plain \n",
    "text responses from synchronous agent invocation while preserving all memory and tool functionality from previous labs."
   ]
  },
  {
   "cell_type": "code",
   "execution_count": 2,
   "id": "2e79eba2-ca59-463f-9ebf-56e362d7ae66",
   "metadata": {
    "execution": {
     "iopub.execute_input": "2025-10-24T18:46:20.385404Z",
     "iopub.status.busy": "2025-10-24T18:46:20.385028Z",
     "iopub.status.idle": "2025-10-24T18:46:20.390533Z",
     "shell.execute_reply": "2025-10-24T18:46:20.390071Z",
     "shell.execute_reply.started": "2025-10-24T18:46:20.385379Z"
    }
   },
   "outputs": [
    {
     "name": "stdout",
     "output_type": "stream",
     "text": [
      "Overwriting ./lab_helpers/lab4_runtime.py\n"
     ]
    }
   ],
   "source": [
    "%%writefile ./lab_helpers/lab4_runtime.py\n",
    "from bedrock_agentcore.runtime import (\n",
    "    BedrockAgentCoreApp,\n",
    ")  #### AGENTCORE RUNTIME - LINE 1 ####\n",
    "from strands import Agent\n",
    "from strands.tools.mcp import MCPClient\n",
    "from mcp.client.streamable_http import streamablehttp_client\n",
    "import requests\n",
    "import boto3\n",
    "from strands.models import BedrockModel\n",
    "from lab_helpers.utils import get_ssm_parameter\n",
    "from lab_helpers.lab1_strands_agent import (\n",
    "    get_return_policy,\n",
    "    get_product_info,\n",
    "    get_technical_support,\n",
    "    SYSTEM_PROMPT,\n",
    "    MODEL_ID,\n",
    ")\n",
    "\n",
    "from lab_helpers.lab2_memory import (\n",
    "    CustomerSupportMemoryHooks,\n",
    "    memory_client,\n",
    "    ACTOR_ID,\n",
    "    SESSION_ID,\n",
    ")\n",
    "\n",
    "# Initialize boto3 client\n",
    "sts_client = boto3.client('sts')\n",
    "\n",
    "# Get AWS account details\n",
    "REGION = boto3.session.Session().region_name\n",
    "\n",
    "# Lab1 import: Create the Bedrock model\n",
    "model = BedrockModel(model_id=MODEL_ID)\n",
    "\n",
    "# Lab2 import : Initialize memory via hooks\n",
    "memory_id = get_ssm_parameter(\"/app/customersupport/agentcore/memory_id\")\n",
    "memory_hooks = CustomerSupportMemoryHooks(\n",
    "    memory_id, memory_client, ACTOR_ID, SESSION_ID\n",
    ")\n",
    "\n",
    "# Initialize the AgentCore Runtime App\n",
    "app = BedrockAgentCoreApp()  #### AGENTCORE RUNTIME - LINE 2 ####\n",
    "\n",
    "@app.entrypoint  #### AGENTCORE RUNTIME - LINE 3 ####\n",
    "async def invoke(payload, context=None):\n",
    "    \"\"\"AgentCore Runtime entrypoint function\"\"\"\n",
    "    user_input = payload.get(\"prompt\", \"\")\n",
    "\n",
    "    # Access request headers - handle None case\n",
    "    request_headers = context.request_headers or {}\n",
    "\n",
    "    # Get Client JWT token\n",
    "    auth_header = request_headers.get('Authorization', '')\n",
    "\n",
    "    print(f\"Authorization header: {auth_header}\")\n",
    "    # Get Gateway ID\n",
    "    existing_gateway_id = get_ssm_parameter(\"/app/customersupport/agentcore/gateway_id\")\n",
    "    \n",
    "    # Initialize Bedrock AgentCore Control client\n",
    "    gateway_client = boto3.client(\n",
    "        \"bedrock-agentcore-control\",\n",
    "        region_name=REGION,\n",
    "    )\n",
    "    # Get existing gateway details\n",
    "    gateway_response = gateway_client.get_gateway(gatewayIdentifier=existing_gateway_id)\n",
    "\n",
    "    # Get gateway url\n",
    "    gateway_url = gateway_response['gatewayUrl']\n",
    "\n",
    "    # Create MCP client and agent within context manager if JWT token available\n",
    "    if gateway_url and auth_header:\n",
    "        try:\n",
    "                mcp_client = MCPClient(lambda: streamablehttp_client(\n",
    "                    url=gateway_url,\n",
    "                    headers={\"Authorization\": auth_header}  \n",
    "                ))\n",
    "                \n",
    "                with mcp_client:\n",
    "                    #tools = mcp_client.list_tools_sync()\n",
    "                    tools = (\n",
    "                        [\n",
    "                            get_product_info,\n",
    "                            get_return_policy,\n",
    "                            get_technical_support\n",
    "                        ]\n",
    "                        + mcp_client.list_tools_sync()\n",
    "                    )\n",
    "                    \n",
    "                    # Create the agent with all customer support tools\n",
    "                    agent = Agent(\n",
    "                        model=model,\n",
    "                        tools=tools,\n",
    "                        system_prompt=SYSTEM_PROMPT,\n",
    "                        hooks=[memory_hooks],\n",
    "                    )\n",
    "                    # Invoke the agent\n",
    "                    response = agent(user_input)\n",
    "                    return response.message[\"content\"][0][\"text\"]\n",
    "        except Exception as e:\n",
    "                print(f\"MCP client error: {str(e)}\")\n",
    "                return f\"Error: {str(e)}\"\n",
    "    else:\n",
    "        return \"Error: Missing gateway URL or authorization header\"\n",
    "\n",
    "if __name__ == \"__main__\":\n",
    "    app.run()  #### AGENTCORE RUNTIME - LINE 4 ####"
   ]
  },
  {
   "cell_type": "markdown",
   "id": "8855aceb-b79f-4aaa-b16f-8577c059816a",
   "metadata": {},
   "source": [
    "#### What happens behind the scenes?\n",
    "\n",
    "When you use `BedrockAgentCoreApp`, it automatically:\n",
    "\n",
    "- Creates an HTTP server that listens on port 8080\n",
    "- Implements the required `/invocations` endpoint for processing requests\n",
    "- Implements the `/ping` endpoint for health checks\n",
    "- Handles proper content types and response formats\n",
    "- Manages error handling according to AWS standards\n"
   ]
  },
  {
   "cell_type": "markdown",
   "id": "8e8aa1fb-4e80-4dbd-864a-8e7bf9eab714",
   "metadata": {},
   "source": [
    "### Step 3: Deploying to AgentCore Runtime\n",
    "\n",
    "Now let's deploy our agent to AgentCore Runtime using the [AgentCore Starter Toolkit](https://github.com/aws/bedrock-agentcore-starter-toolkit).\n",
    "\n",
    "#### Configure the Secure Runtime Deployment (AgentCore Runtime + AgentCore Identity)\n",
    "\n",
    "First we will use our starter toolkit to configure the AgentCore Runtime deployment with an entrypoint, the execution role we will create and a requirements file. We will also configure the identity authorization using an Amazon Cognito user pool and we will configure the starter kit to auto create the Amazon ECR repository on launch.\n",
    "\n",
    "During the configure step, your docker file will be generated based on your application code\n",
    "\n",
    "<div style=\"text-align:left\"> \n",
    "    <img src=\"images/configure.png\" width=\"75%\"/> \n",
    "</div>\n",
    "\n",
    "**Note**: The Cognito access_token is valid for 2 hours only. If the access_token expires you can vend another access_token by using the `reauthenticate_user` method.\n"
   ]
  },
  {
   "cell_type": "code",
   "execution_count": 3,
   "id": "c68f95c9-e97c-4ebd-8009-b2eab09ba614",
   "metadata": {
    "execution": {
     "iopub.execute_input": "2025-10-24T18:47:35.274434Z",
     "iopub.status.busy": "2025-10-24T18:47:35.274176Z",
     "iopub.status.idle": "2025-10-24T18:47:38.582242Z",
     "shell.execute_reply": "2025-10-24T18:47:38.581750Z",
     "shell.execute_reply.started": "2025-10-24T18:47:35.274414Z"
    }
   },
   "outputs": [
    {
     "name": "stdout",
     "output_type": "stream",
     "text": [
      "❌ Error getting secret: An error occurred (ResourceNotFoundException) when calling the GetSecretValue operation: Secrets Manager can't find the specified secret.\n",
      "No existing cognito config found. Creating a new one..\n",
      "{'UserPoolId': 'us-west-2_pOklop5dv', 'ClientName': 'MCPServerPoolClient', 'ClientId': '5rmqko8d4rc15937i1tkm1el65', 'ClientSecret': '19ortc8j92tab5m97prr2c64a1q5fvbeices0bfp86lgc9h5la6t', 'LastModifiedDate': datetime.datetime(2025, 10, 24, 18, 47, 36, 532000, tzinfo=tzlocal()), 'CreationDate': datetime.datetime(2025, 10, 24, 18, 47, 36, 532000, tzinfo=tzlocal()), 'RefreshTokenValidity': 30, 'TokenValidityUnits': {}, 'ExplicitAuthFlows': ['ALLOW_USER_PASSWORD_AUTH', 'ALLOW_USER_SRP_AUTH', 'ALLOW_REFRESH_TOKEN_AUTH'], 'AllowedOAuthFlowsUserPoolClient': False, 'EnableTokenRevocation': True, 'EnablePropagateAdditionalUserContextData': False, 'AuthSessionValidity': 3}\n",
      "Pool id: us-west-2_pOklop5dv\n",
      "Discovery URL: https://cognito-idp.us-west-2.amazonaws.com/us-west-2_pOklop5dv/.well-known/openid-configuration\n",
      "Client ID: 5rmqko8d4rc15937i1tkm1el65\n",
      "Bearer Token: eyJraWQiOiJhK2pMTjd6aThrSUZ5THpvWmJ5cXdcL0RRZWxkYnBrWUEyd1NyUjFWSkptMD0iLCJhbGciOiJSUzI1NiJ9.eyJzdWIiOiI4ODYxZDMzMC0zMDYxLTcwNDktZTcxNy0yZTQ4ZTQyNzdlMjYiLCJpc3MiOiJodHRwczpcL1wvY29nbml0by1pZHAudXMtd2VzdC0yLmFtYXpvbmF3cy5jb21cL3VzLXdlc3QtMl9wT2tsb3A1ZHYiLCJjbGllbnRfaWQiOiI1cm1xa284ZDRyYzE1OTM3aTF0a20xZWw2NSIsIm9yaWdpbl9qdGkiOiI3NmEwMjcxYS1mNWJhLTRkNDYtYjIzNS1hZWM4MTNjYjVhM2YiLCJldmVudF9pZCI6ImVlOTNjNDVmLWEwYzMtNDU4OC05Njg1LTY5NjdiNDdjNTI5YiIsInRva2VuX3VzZSI6ImFjY2VzcyIsInNjb3BlIjoiYXdzLmNvZ25pdG8uc2lnbmluLnVzZXIuYWRtaW4iLCJhdXRoX3RpbWUiOjE3NjEzMzE2NTcsImV4cCI6MTc2MTMzNTI1NywiaWF0IjoxNzYxMzMxNjU3LCJqdGkiOiIzMWEwNWQ2YS03NDBiLTQ5MTUtYmFiNy04NTg4MTQwYmFlNzIiLCJ1c2VybmFtZSI6InRlc3R1c2VyIn0.2t6XBIs979L6OMM-kj-ULX-1AIQhjh09hr7s0ltYO-PjK2EuRP3ZKFUhzZkw64QhVDXU0-Ss5w9S0E5ZaIaEHkM7eKxvgFrdBWf2qopfNcaDu6xu6slqi8amU3ztm0gLY9NuJ6Q9h6iovWGUzNQaGrE4HKrLtWEtswBXUt_GTNpXekuSgHAbUuxJxIVThr_DWug0I4OcBRqeEo49onOgdbuSEi8cHrlxITjr0pmNNYCWUlAVBizBtHzz7vRIhmZVHd8ZxcrK7Z-phjF2d-RXv5CMqUpq4IPGmrJ6Z0Q1kF09Afe-F4ZWOzkvS__MNHqtjyxsPHIu5-OmuwIjJgIUwQ\n",
      "✅ Created secret\n",
      "Access token: eyJraWQiOiJhK2pMTjd6aThrSUZ5THpvWmJ5cXdcL0RRZWxkYnBrWUEyd1NyUjFWSkptMD0iLCJhbGciOiJSUzI1NiJ9.eyJzdWIiOiI4ODYxZDMzMC0zMDYxLTcwNDktZTcxNy0yZTQ4ZTQyNzdlMjYiLCJpc3MiOiJodHRwczpcL1wvY29nbml0by1pZHAudXMtd2VzdC0yLmFtYXpvbmF3cy5jb21cL3VzLXdlc3QtMl9wT2tsb3A1ZHYiLCJjbGllbnRfaWQiOiI1cm1xa284ZDRyYzE1OTM3aTF0a20xZWw2NSIsIm9yaWdpbl9qdGkiOiI3NmEwMjcxYS1mNWJhLTRkNDYtYjIzNS1hZWM4MTNjYjVhM2YiLCJldmVudF9pZCI6ImVlOTNjNDVmLWEwYzMtNDU4OC05Njg1LTY5NjdiNDdjNTI5YiIsInRva2VuX3VzZSI6ImFjY2VzcyIsInNjb3BlIjoiYXdzLmNvZ25pdG8uc2lnbmluLnVzZXIuYWRtaW4iLCJhdXRoX3RpbWUiOjE3NjEzMzE2NTcsImV4cCI6MTc2MTMzNTI1NywiaWF0IjoxNzYxMzMxNjU3LCJqdGkiOiIzMWEwNWQ2YS03NDBiLTQ5MTUtYmFiNy04NTg4MTQwYmFlNzIiLCJ1c2VybmFtZSI6InRlc3R1c2VyIn0.2t6XBIs979L6OMM-kj-ULX-1AIQhjh09hr7s0ltYO-PjK2EuRP3ZKFUhzZkw64QhVDXU0-Ss5w9S0E5ZaIaEHkM7eKxvgFrdBWf2qopfNcaDu6xu6slqi8amU3ztm0gLY9NuJ6Q9h6iovWGUzNQaGrE4HKrLtWEtswBXUt_GTNpXekuSgHAbUuxJxIVThr_DWug0I4OcBRqeEo49onOgdbuSEi8cHrlxITjr0pmNNYCWUlAVBizBtHzz7vRIhmZVHd8ZxcrK7Z-phjF2d-RXv5CMqUpq4IPGmrJ6Z0Q1kF09Afe-F4ZWOzkvS__MNHqtjyxsPHIu5-OmuwIjJgIUwQ\n"
     ]
    }
   ],
   "source": [
    "from lab_helpers.utils import get_or_create_cognito_pool\n",
    "\n",
    "access_token = get_or_create_cognito_pool(refresh_token=True)\n",
    "print(f\"Access token: {access_token['bearer_token']}\")"
   ]
  },
  {
   "cell_type": "markdown",
   "id": "d1d09fb7",
   "metadata": {},
   "source": [
    "#### AgentCore Runtime Configuration Summary:\n",
    "\n",
    "Below code configures the AgentCore Runtime deployment using the starter toolkit. It creates an execution role for the runtime, then configures the \n",
    "deployment with the agent entrypoint file (lab_helpers/lab4_runtime.py), enables automatic ECR repository creation, and sets up JWT-based authentication using \n",
    "Cognito. The configuration specifies allowed client IDs and discovery URLs retrieved from SSM parameters, establishing secure access control for the \n",
    "production agent deployment. This step automatically generates the Dockerfile and .bedrock_agentcore.yaml configuration files needed for \n",
    "containerized deployment.\n",
    "\n",
    "**Runtime Header Configuration** : Below code configures custom header allowlists for the deployed AgentCore Runtime. It extracts the runtime ID from the agent ARN, retrieves the \n",
    "current runtime configuration to preserve existing settings, then updates the runtime with a request header allowlist that includes the Authorization\n",
    "header (required for OAuth token propagation) and custom headers. This ensures JWT tokens and other necessary headers are properly forwarded from \n",
    "client requests to the agent runtime code."
   ]
  },
  {
   "cell_type": "code",
   "execution_count": 4,
   "id": "17a32ab8-7701-4900-8055-e24364bdf35c",
   "metadata": {
    "execution": {
     "iopub.execute_input": "2025-10-24T18:47:55.361678Z",
     "iopub.status.busy": "2025-10-24T18:47:55.361422Z",
     "iopub.status.idle": "2025-10-24T18:47:56.718835Z",
     "shell.execute_reply": "2025-10-24T18:47:56.718386Z",
     "shell.execute_reply.started": "2025-10-24T18:47:55.361656Z"
    }
   },
   "outputs": [
    {
     "name": "stdout",
     "output_type": "stream",
     "text": [
      "✅ Created IAM role: CustomerSupportAssistantBedrockAgentCoreRole-us-west-2\n",
      "Role ARN: arn:aws:iam::146859427221:role/CustomerSupportAssistantBedrockAgentCoreRole-us-west-2\n",
      "✅ Created policy: CustomerSupportAssistantBedrockAgentCorePolicy-us-west-2\n",
      "✅ Attached policy to role\n",
      "Policy ARN: arn:aws:iam::146859427221:policy/CustomerSupportAssistantBedrockAgentCorePolicy-us-west-2\n"
     ]
    },
    {
     "name": "stderr",
     "output_type": "stream",
     "text": [
      "Entrypoint parsed: file=/home/sagemaker-user/bedrock-agentcore-workshop/lab_helpers/lab4_runtime.py, bedrock_agentcore_name=lab4_runtime\n",
      "Configuring BedrockAgentCore agent: customer_support_agent\n",
      "Will create new memory with mode: STM_ONLY\n",
      "Memory configuration: Short-term memory only\n"
     ]
    },
    {
     "data": {
      "text/html": [
       "<pre style=\"white-space:pre;overflow-x:auto;line-height:normal;font-family:Menlo,'DejaVu Sans Mono',consolas,'Courier New',monospace\">\n",
       "<span style=\"color: #808000; text-decoration-color: #808000; font-weight: bold; text-decoration: underline\">⚠️  [WARNING] Platform mismatch: Current system is </span><span style=\"color: #008000; text-decoration-color: #008000; text-decoration: underline\">'linux/amd64'</span><span style=\"color: #808000; text-decoration-color: #808000; font-weight: bold; text-decoration: underline\"> but Bedrock AgentCore requires </span><span style=\"color: #008000; text-decoration-color: #008000; text-decoration: underline\">'linux/arm64'</span><span style=\"color: #808000; text-decoration-color: #808000; font-weight: bold; text-decoration: underline\">.</span>\n",
       "<span style=\"color: #808000; text-decoration-color: #808000; font-weight: bold; text-decoration: underline\">For deployment options and workarounds, see: </span>\n",
       "<span style=\"color: #0000ff; text-decoration-color: #0000ff; text-decoration: underline\">https://docs.aws.amazon.com/bedrock-agentcore/latest/devguide/getting-started-custom.html</span>\n",
       "\n",
       "</pre>\n"
      ],
      "text/plain": [
       "\n",
       "\u001b[1;4;33m⚠️  \u001b[0m\u001b[1;4;33m[\u001b[0m\u001b[1;4;33mWARNING\u001b[0m\u001b[1;4;33m]\u001b[0m\u001b[1;4;33m Platform mismatch: Current system is \u001b[0m\u001b[4;32m'linux/amd64'\u001b[0m\u001b[1;4;33m but Bedrock AgentCore requires \u001b[0m\u001b[4;32m'linux/arm64'\u001b[0m\u001b[1;4;33m.\u001b[0m\n",
       "\u001b[1;4;33mFor deployment options and workarounds, see: \u001b[0m\n",
       "\u001b[4;94mhttps://docs.aws.amazon.com/bedrock-agentcore/latest/devguide/getting-started-custom.html\u001b[0m\n",
       "\n"
      ]
     },
     "metadata": {},
     "output_type": "display_data"
    },
    {
     "name": "stderr",
     "output_type": "stream",
     "text": [
      "Generated .dockerignore\n",
      "Generated Dockerfile: /home/sagemaker-user/bedrock-agentcore-workshop/Dockerfile\n",
      "Generated .dockerignore: /home/sagemaker-user/bedrock-agentcore-workshop/.dockerignore\n",
      "Setting 'customer_support_agent' as default agent\n",
      "Bedrock AgentCore configured: /home/sagemaker-user/bedrock-agentcore-workshop/.bedrock_agentcore.yaml\n"
     ]
    },
    {
     "name": "stdout",
     "output_type": "stream",
     "text": [
      "Configuration completed: config_path=PosixPath('/home/sagemaker-user/bedrock-agentcore-workshop/.bedrock_agentcore.yaml') dockerfile_path=PosixPath('/home/sagemaker-user/bedrock-agentcore-workshop/Dockerfile') dockerignore_path=PosixPath('/home/sagemaker-user/bedrock-agentcore-workshop/.dockerignore') runtime='Docker' region='us-west-2' account_id='146859427221' execution_role='arn:aws:iam::146859427221:role/CustomerSupportAssistantBedrockAgentCoreRole-us-west-2' ecr_repository=None auto_create_ecr=True memory_id=None\n"
     ]
    }
   ],
   "source": [
    "from bedrock_agentcore_starter_toolkit import Runtime\n",
    "from lab_helpers.utils import create_agentcore_runtime_execution_role\n",
    "\n",
    "# Initialize the runtime toolkit\n",
    "boto_session = boto3.session.Session()\n",
    "region = boto_session.region_name\n",
    "\n",
    "execution_role_arn = create_agentcore_runtime_execution_role()\n",
    "\n",
    "agentcore_runtime = Runtime()\n",
    "\n",
    "# Configure the deployment\n",
    "response = agentcore_runtime.configure(\n",
    "    entrypoint=\"lab_helpers/lab4_runtime.py\",\n",
    "    execution_role=execution_role_arn,\n",
    "    auto_create_ecr=True,\n",
    "    requirements_file=\"requirements.txt\",\n",
    "    region=region,\n",
    "    agent_name=\"customer_support_agent\",\n",
    "    authorizer_configuration={\n",
    "        \"customJWTAuthorizer\": {\n",
    "            \"allowedClients\": [\n",
    "                get_ssm_parameter(\"/app/customersupport/agentcore/client_id\")\n",
    "            ],\n",
    "            \"discoveryUrl\": get_ssm_parameter(\n",
    "                \"/app/customersupport/agentcore/cognito_discovery_url\"\n",
    "            ),\n",
    "        }\n",
    "    },\n",
    "    # Add custom header allowlist for Authorization and custom headers\n",
    "    request_header_configuration={\n",
    "        \"requestHeaderAllowlist\": [\n",
    "            \"Authorization\",  # Required for OAuth propogation\n",
    "            \"X-Amzn-Bedrock-AgentCore-Runtime-Custom-H1\",  # Custom header\n",
    "        ]\n",
    "    },\n",
    ")\n",
    "\n",
    "print(\"Configuration completed:\", response)"
   ]
  },
  {
   "cell_type": "markdown",
   "id": "9e1b84cc-798e-472c-ac0b-2c315f4b704d",
   "metadata": {},
   "source": [
    "#### Launch the Agent\n",
    "\n",
    "Now let's launch our agent to AgentCore Runtime. This will create an AWS CodeBuild pipeline, the Amazon ECR repository and the AgentCore Runtime components.\n",
    "\n",
    "<div style=\"text-align:left\"> \n",
    "    <img src=\"images/launch.png\" width=\"100%\"/> \n",
    "</div>"
   ]
  },
  {
   "cell_type": "markdown",
   "id": "463d195d",
   "metadata": {},
   "source": [
    "*Note: This step might fail if the agent with the same name already exists. If you want to overwrite the existing Runtime, use this instead:*\n",
    "\n",
    "``` launch_result = agentcore_runtime.launch(auto_update_on_conflict=True)```\n"
   ]
  },
  {
   "cell_type": "code",
   "execution_count": 5,
   "id": "afa6ac09-9adb-4846-9fc1-4d12aeb74853",
   "metadata": {
    "execution": {
     "iopub.execute_input": "2025-10-24T18:48:01.905815Z",
     "iopub.status.busy": "2025-10-24T18:48:01.905532Z",
     "iopub.status.idle": "2025-10-24T18:49:11.350567Z",
     "shell.execute_reply": "2025-10-24T18:49:11.350078Z",
     "shell.execute_reply.started": "2025-10-24T18:48:01.905792Z"
    }
   },
   "outputs": [
    {
     "name": "stderr",
     "output_type": "stream",
     "text": [
      "🚀 CodeBuild mode: building in cloud (RECOMMENDED - DEFAULT)\n",
      "   • Build ARM64 containers in the cloud with CodeBuild\n",
      "   • No local Docker required\n",
      "💡 Available deployment modes:\n",
      "   • runtime.launch()                           → CodeBuild (current)\n",
      "   • runtime.launch(local=True)                 → Local development\n",
      "   • runtime.launch(local_build=True)           → Local build + cloud deploy (NEW)\n",
      "Creating memory resource for agent: customer_support_agent\n",
      "✅ MemoryManager initialized for region: us-west-2\n",
      "Creating new STM-only memory...\n",
      "Created memory: customer_support_agent_mem-Cl4km64zol\n",
      "✅ New memory created: customer_support_agent_mem-Cl4km64zol (provisioning in background)\n",
      "Starting CodeBuild ARM64 deployment for agent 'customer_support_agent' to account 146859427221 (us-west-2)\n",
      "Setting up AWS resources (ECR repository, execution roles)...\n",
      "Getting or creating ECR repository for agent: customer_support_agent\n",
      "✅ ECR repository available: 146859427221.dkr.ecr.us-west-2.amazonaws.com/bedrock-agentcore-customer_support_agent\n",
      "Using execution role from config: arn:aws:iam::146859427221:role/CustomerSupportAssistantBedrockAgentCoreRole-us-west-2\n",
      "Preparing CodeBuild project and uploading source...\n"
     ]
    },
    {
     "name": "stdout",
     "output_type": "stream",
     "text": [
      "Repository doesn't exist, creating new ECR repository: bedrock-agentcore-customer_support_agent\n"
     ]
    },
    {
     "name": "stderr",
     "output_type": "stream",
     "text": [
      "Getting or creating CodeBuild execution role for agent: customer_support_agent\n",
      "Role name: AmazonBedrockAgentCoreSDKCodeBuild-us-west-2-aa96c3a063\n",
      "CodeBuild role doesn't exist, creating new role: AmazonBedrockAgentCoreSDKCodeBuild-us-west-2-aa96c3a063\n",
      "Creating IAM role: AmazonBedrockAgentCoreSDKCodeBuild-us-west-2-aa96c3a063\n",
      "✓ Role created: arn:aws:iam::146859427221:role/AmazonBedrockAgentCoreSDKCodeBuild-us-west-2-aa96c3a063\n",
      "Attaching inline policy: CodeBuildExecutionPolicy to role: AmazonBedrockAgentCoreSDKCodeBuild-us-west-2-aa96c3a063\n",
      "✓ Policy attached: CodeBuildExecutionPolicy\n",
      "Waiting for IAM role propagation...\n",
      "CodeBuild execution role creation complete: arn:aws:iam::146859427221:role/AmazonBedrockAgentCoreSDKCodeBuild-us-west-2-aa96c3a063\n",
      "Created S3 bucket: bedrock-agentcore-codebuild-sources-146859427221-us-west-2\n",
      "Using dockerignore.template with 45 patterns for zip filtering\n",
      "Uploaded source to S3: customer_support_agent/source.zip\n",
      "Created CodeBuild project: bedrock-agentcore-customer_support_agent-builder\n",
      "Starting CodeBuild build (this may take several minutes)...\n",
      "Starting CodeBuild monitoring...\n",
      "🔄 QUEUED started (total: 0s)\n",
      "✅ QUEUED completed in 1.0s\n",
      "🔄 PROVISIONING started (total: 1s)\n",
      "✅ PROVISIONING completed in 9.3s\n",
      "🔄 DOWNLOAD_SOURCE started (total: 10s)\n",
      "✅ DOWNLOAD_SOURCE completed in 2.1s\n",
      "🔄 BUILD started (total: 12s)\n",
      "✅ BUILD completed in 17.5s\n",
      "🔄 POST_BUILD started (total: 30s)\n",
      "✅ POST_BUILD completed in 11.4s\n",
      "🔄 COMPLETED started (total: 41s)\n",
      "✅ COMPLETED completed in 1.0s\n",
      "🎉 CodeBuild completed successfully in 0m 42s\n",
      "CodeBuild completed successfully\n",
      "✅ CodeBuild project configuration saved\n",
      "Deploying to Bedrock AgentCore...\n",
      "Passing memory configuration to agent: customer_support_agent_mem-Cl4km64zol\n",
      "✅ Agent created/updated: arn:aws:bedrock-agentcore:us-west-2:146859427221:runtime/customer_support_agent-NCN2wA5dLi\n",
      "Observability is enabled, configuring Transaction Search...\n",
      "Created/updated CloudWatch Logs resource policy\n",
      "Transaction Search configuration failed: An error occurred (AccessDeniedException) when calling the UpdateTraceSegmentDestination operation: User: arn:aws:sts::146859427221:assumed-role/workshop-studio-SageMakerExecutionRole-TZOOooQuIeDA/SageMaker is not authorized to perform: xray:UpdateTraceSegmentDestination because no identity-based policy allows the xray:UpdateTraceSegmentDestination action\n",
      "Agent launch will continue without Transaction Search\n",
      "🔍 GenAI Observability Dashboard:\n",
      "   https://console.aws.amazon.com/cloudwatch/home?region=us-west-2#gen-ai-observability/agent-core\n",
      "Polling for endpoint to be ready...\n",
      "Agent endpoint: arn:aws:bedrock-agentcore:us-west-2:146859427221:runtime/customer_support_agent-NCN2wA5dLi/runtime-endpoint/DEFAULT\n",
      "Deployment completed successfully - Agent: arn:aws:bedrock-agentcore:us-west-2:146859427221:runtime/customer_support_agent-NCN2wA5dLi\n",
      "Built with CodeBuild: bedrock-agentcore-customer_support_agent-builder:add609ee-17c4-406b-a143-e51730ff9261\n",
      "Deployed to cloud: arn:aws:bedrock-agentcore:us-west-2:146859427221:runtime/customer_support_agent-NCN2wA5dLi\n",
      "ECR image: 146859427221.dkr.ecr.us-west-2.amazonaws.com/bedrock-agentcore-customer_support_agent\n",
      "🔍 Agent logs available at:\n",
      "   /aws/bedrock-agentcore/runtimes/customer_support_agent-NCN2wA5dLi-DEFAULT --log-stream-name-prefix \"2025/10/24/\\[runtime-logs]\"\n",
      "   /aws/bedrock-agentcore/runtimes/customer_support_agent-NCN2wA5dLi-DEFAULT --log-stream-names \"otel-rt-logs\"\n",
      "💡 Tail logs with: aws logs tail /aws/bedrock-agentcore/runtimes/customer_support_agent-NCN2wA5dLi-DEFAULT --log-stream-name-prefix \"2025/10/24/\\[runtime-logs]\" --follow\n",
      "💡 Or view recent logs: aws logs tail /aws/bedrock-agentcore/runtimes/customer_support_agent-NCN2wA5dLi-DEFAULT --log-stream-name-prefix \"2025/10/24/\\[runtime-logs]\" --since 1h\n"
     ]
    },
    {
     "name": "stdout",
     "output_type": "stream",
     "text": [
      "Launch completed: arn:aws:bedrock-agentcore:us-west-2:146859427221:runtime/customer_support_agent-NCN2wA5dLi\n"
     ]
    }
   ],
   "source": [
    "# Launch the agent (this will build and deploy the container)\n",
    "from lab_helpers.utils import put_ssm_parameter\n",
    "\n",
    "launch_result = agentcore_runtime.launch()\n",
    "print(\"Launch completed:\", launch_result.agent_arn)\n",
    "\n",
    "agent_arn = put_ssm_parameter(\n",
    "    \"/app/customersupport/agentcore/runtime_arn\", launch_result.agent_arn\n",
    ")"
   ]
  },
  {
   "cell_type": "markdown",
   "id": "a0ae9c09-09db-4a76-871a-92eacd96b9c3",
   "metadata": {},
   "source": [
    "#### Check Deployment Status\n",
    "\n",
    "Let's wait for the deployment to complete:\n"
   ]
  },
  {
   "cell_type": "code",
   "execution_count": 6,
   "id": "3d909e42-e1a0-407f-84c2-3d16cc889cd3",
   "metadata": {
    "execution": {
     "iopub.execute_input": "2025-10-24T18:49:11.351572Z",
     "iopub.status.busy": "2025-10-24T18:49:11.351384Z",
     "iopub.status.idle": "2025-10-24T18:49:12.202810Z",
     "shell.execute_reply": "2025-10-24T18:49:12.202328Z",
     "shell.execute_reply.started": "2025-10-24T18:49:11.351555Z"
    }
   },
   "outputs": [
    {
     "name": "stderr",
     "output_type": "stream",
     "text": [
      "✅ MemoryManager initialized for region: us-west-2\n",
      "🔎 Retrieving memory resource with ID: customer_support_agent_mem-Cl4km64zol...\n",
      "  ✅ Found memory: customer_support_agent_mem-Cl4km64zol\n",
      "Retrieved Bedrock AgentCore status for: customer_support_agent\n"
     ]
    },
    {
     "name": "stdout",
     "output_type": "stream",
     "text": [
      "Final status: READY\n"
     ]
    }
   ],
   "source": [
    "import time\n",
    "\n",
    "# Wait for the agent to be ready\n",
    "status_response = agentcore_runtime.status()\n",
    "status = status_response.endpoint[\"status\"]\n",
    "\n",
    "end_status = [\"READY\", \"CREATE_FAILED\", \"DELETE_FAILED\", \"UPDATE_FAILED\"]\n",
    "while status not in end_status:\n",
    "    print(f\"Waiting for deployment... Current status: {status}\")\n",
    "    time.sleep(10)\n",
    "    status_response = agentcore_runtime.status()\n",
    "    status = status_response.endpoint[\"status\"]\n",
    "\n",
    "print(f\"Final status: {status}\")"
   ]
  },
  {
   "cell_type": "markdown",
   "id": "b7f89c56-918a-4cab-beaa-c7ac43a2ba29",
   "metadata": {},
   "source": [
    "### Step 4: Invoking Your Deployed Agent\n",
    "\n",
    "Now that our agent is deployed and ready, let's test it with some queries. We invoke the agent with the right authorization token type. In out case it'll be Cognito access token. Copy the access token from the cell above\n",
    "\n",
    "<div style=\"text-align:left\"> \n",
    "    <img src=\"images/invoke.png\" width=\"100%\"/> \n",
    "</div>\n",
    "\n",
    "#### Using the AgentCore Starter Toolkit\n",
    "\n",
    "We can validate that the agent works using the AgentCore Starter Toolkit for invocation. The starter toolkit can automatically create a session id for us to query our agent. Alternatively, you can also pass the session id as a parameter during invocation. For demonstration purpose, we will create our own session id.\n"
   ]
  },
  {
   "cell_type": "code",
   "execution_count": 7,
   "id": "cc1fa718",
   "metadata": {
    "execution": {
     "iopub.execute_input": "2025-10-24T18:49:12.203537Z",
     "iopub.status.busy": "2025-10-24T18:49:12.203351Z",
     "iopub.status.idle": "2025-10-24T18:49:12.209407Z",
     "shell.execute_reply": "2025-10-24T18:49:12.208959Z",
     "shell.execute_reply.started": "2025-10-24T18:49:12.203519Z"
    }
   },
   "outputs": [
    {
     "name": "stdout",
     "output_type": "stream",
     "text": [
      "Runtime ID: customer_support_agent-NCN2wA5dLi\n"
     ]
    }
   ],
   "source": [
    "# Initialize the AgentCore Control client\n",
    "client = boto3.client(\"bedrock-agentcore-control\")\n",
    "\n",
    "# Extract runtime ID from the ARN (format: arn:aws:bedrock-agentcore:region:account:runtime/runtime-id)\n",
    "runtime_id = launch_result.agent_arn.split(\":\")[-1].split(\"/\")[-1]\n",
    "\n",
    "print(f\"Runtime ID: {runtime_id}\")"
   ]
  },
  {
   "cell_type": "code",
   "execution_count": 8,
   "id": "be15c4b6",
   "metadata": {
    "execution": {
     "iopub.execute_input": "2025-10-24T18:49:12.210419Z",
     "iopub.status.busy": "2025-10-24T18:49:12.210238Z",
     "iopub.status.idle": "2025-10-24T18:49:22.633863Z",
     "shell.execute_reply": "2025-10-24T18:49:22.633112Z",
     "shell.execute_reply.started": "2025-10-24T18:49:12.210402Z"
    }
   },
   "outputs": [
    {
     "name": "stderr",
     "output_type": "stream",
     "text": [
      "Failed to invoke agent endpoint: 424 Client Error: Failed Dependency for url: https://bedrock-agentcore.us-west-2.amazonaws.com/runtimes/arn%3Aaws%3Abedrock-agentcore%3Aus-west-2%3A146859427221%3Aruntime%2Fcustomer_support_agent-NCN2wA5dLi/invocations?qualifier=DEFAULT\n"
     ]
    },
    {
     "ename": "HTTPError",
     "evalue": "424 Client Error: Failed Dependency for url: https://bedrock-agentcore.us-west-2.amazonaws.com/runtimes/arn%3Aaws%3Abedrock-agentcore%3Aus-west-2%3A146859427221%3Aruntime%2Fcustomer_support_agent-NCN2wA5dLi/invocations?qualifier=DEFAULT",
     "output_type": "error",
     "traceback": [
      "\u001b[0;31m---------------------------------------------------------------------------\u001b[0m",
      "\u001b[0;31mHTTPError\u001b[0m                                 Traceback (most recent call last)",
      "Cell \u001b[0;32mIn[8], line 9\u001b[0m\n\u001b[1;32m      6\u001b[0m \u001b[38;5;66;03m# Test different customer support scenarios\u001b[39;00m\n\u001b[1;32m      7\u001b[0m user_query \u001b[38;5;241m=\u001b[39m \u001b[38;5;124m\"\u001b[39m\u001b[38;5;124mList all of your tools\u001b[39m\u001b[38;5;124m\"\u001b[39m\n\u001b[0;32m----> 9\u001b[0m response \u001b[38;5;241m=\u001b[39m \u001b[43magentcore_runtime\u001b[49m\u001b[38;5;241;43m.\u001b[39;49m\u001b[43minvoke\u001b[49m\u001b[43m(\u001b[49m\n\u001b[1;32m     10\u001b[0m \u001b[43m    \u001b[49m\u001b[43m{\u001b[49m\u001b[38;5;124;43m\"\u001b[39;49m\u001b[38;5;124;43mprompt\u001b[39;49m\u001b[38;5;124;43m\"\u001b[39;49m\u001b[43m:\u001b[49m\u001b[43m \u001b[49m\u001b[43muser_query\u001b[49m\u001b[43m}\u001b[49m\u001b[43m,\u001b[49m\n\u001b[1;32m     11\u001b[0m \u001b[43m    \u001b[49m\u001b[43mbearer_token\u001b[49m\u001b[38;5;241;43m=\u001b[39;49m\u001b[43maccess_token\u001b[49m\u001b[43m[\u001b[49m\u001b[38;5;124;43m\"\u001b[39;49m\u001b[38;5;124;43mbearer_token\u001b[39;49m\u001b[38;5;124;43m\"\u001b[39;49m\u001b[43m]\u001b[49m\u001b[43m,\u001b[49m\n\u001b[1;32m     12\u001b[0m \u001b[43m    \u001b[49m\u001b[43msession_id\u001b[49m\u001b[38;5;241;43m=\u001b[39;49m\u001b[38;5;28;43mstr\u001b[39;49m\u001b[43m(\u001b[49m\u001b[43msession_id\u001b[49m\u001b[43m)\u001b[49m\u001b[43m,\u001b[49m\n\u001b[1;32m     13\u001b[0m \u001b[43m)\u001b[49m\n\u001b[1;32m     15\u001b[0m \u001b[38;5;28mprint\u001b[39m(response[\u001b[38;5;124m\"\u001b[39m\u001b[38;5;124mresponse\u001b[39m\u001b[38;5;124m\"\u001b[39m])\n",
      "File \u001b[0;32m/opt/conda/lib/python3.12/site-packages/bedrock_agentcore_starter_toolkit/notebook/runtime/bedrock_agentcore.py:286\u001b[0m, in \u001b[0;36mRuntime.invoke\u001b[0;34m(self, payload, session_id, bearer_token, local, user_id)\u001b[0m\n\u001b[1;32m    283\u001b[0m     log\u001b[38;5;241m.\u001b[39minfo(\u001b[38;5;124m\"\u001b[39m\u001b[38;5;124m  runtime.invoke(\u001b[39m\u001b[38;5;124m{\u001b[39m\u001b[38;5;124m'\u001b[39m\u001b[38;5;124mmessage\u001b[39m\u001b[38;5;124m'\u001b[39m\u001b[38;5;124m: \u001b[39m\u001b[38;5;124m'\u001b[39m\u001b[38;5;124mHello\u001b[39m\u001b[38;5;124m'\u001b[39m\u001b[38;5;124m})\u001b[39m\u001b[38;5;124m\"\u001b[39m)\n\u001b[1;32m    284\u001b[0m     \u001b[38;5;28;01mraise\u001b[39;00m \u001b[38;5;167;01mValueError\u001b[39;00m(\u001b[38;5;124m\"\u001b[39m\u001b[38;5;124mMust configure and launch first.\u001b[39m\u001b[38;5;124m\"\u001b[39m)\n\u001b[0;32m--> 286\u001b[0m result \u001b[38;5;241m=\u001b[39m \u001b[43minvoke_bedrock_agentcore\u001b[49m\u001b[43m(\u001b[49m\n\u001b[1;32m    287\u001b[0m \u001b[43m    \u001b[49m\u001b[43mconfig_path\u001b[49m\u001b[38;5;241;43m=\u001b[39;49m\u001b[38;5;28;43mself\u001b[39;49m\u001b[38;5;241;43m.\u001b[39;49m\u001b[43m_config_path\u001b[49m\u001b[43m,\u001b[49m\n\u001b[1;32m    288\u001b[0m \u001b[43m    \u001b[49m\u001b[43mpayload\u001b[49m\u001b[38;5;241;43m=\u001b[39;49m\u001b[43mpayload\u001b[49m\u001b[43m,\u001b[49m\n\u001b[1;32m    289\u001b[0m \u001b[43m    \u001b[49m\u001b[43msession_id\u001b[49m\u001b[38;5;241;43m=\u001b[39;49m\u001b[43msession_id\u001b[49m\u001b[43m,\u001b[49m\n\u001b[1;32m    290\u001b[0m \u001b[43m    \u001b[49m\u001b[43mbearer_token\u001b[49m\u001b[38;5;241;43m=\u001b[39;49m\u001b[43mbearer_token\u001b[49m\u001b[43m,\u001b[49m\n\u001b[1;32m    291\u001b[0m \u001b[43m    \u001b[49m\u001b[43mlocal_mode\u001b[49m\u001b[38;5;241;43m=\u001b[39;49m\u001b[43mlocal\u001b[49m\u001b[43m,\u001b[49m\n\u001b[1;32m    292\u001b[0m \u001b[43m    \u001b[49m\u001b[43muser_id\u001b[49m\u001b[38;5;241;43m=\u001b[39;49m\u001b[43muser_id\u001b[49m\u001b[43m,\u001b[49m\n\u001b[1;32m    293\u001b[0m \u001b[43m\u001b[49m\u001b[43m)\u001b[49m\n\u001b[1;32m    294\u001b[0m \u001b[38;5;28;01mreturn\u001b[39;00m result\u001b[38;5;241m.\u001b[39mresponse\n",
      "File \u001b[0;32m/opt/conda/lib/python3.12/site-packages/bedrock_agentcore_starter_toolkit/operations/runtime/invoke.py:132\u001b[0m, in \u001b[0;36minvoke_bedrock_agentcore\u001b[0;34m(config_path, payload, agent_name, session_id, bearer_token, user_id, local_mode, custom_headers)\u001b[0m\n\u001b[1;32m    129\u001b[0m     \u001b[38;5;28;01mfrom\u001b[39;00m\u001b[38;5;250m \u001b[39m\u001b[38;5;21;01m.\u001b[39;00m\u001b[38;5;21;01m.\u001b[39;00m\u001b[38;5;21;01m.\u001b[39;00m\u001b[38;5;21;01mservices\u001b[39;00m\u001b[38;5;21;01m.\u001b[39;00m\u001b[38;5;21;01mruntime\u001b[39;00m\u001b[38;5;250m \u001b[39m\u001b[38;5;28;01mimport\u001b[39;00m HttpBedrockAgentCoreClient\n\u001b[1;32m    131\u001b[0m     client \u001b[38;5;241m=\u001b[39m HttpBedrockAgentCoreClient(region)\n\u001b[0;32m--> 132\u001b[0m     response \u001b[38;5;241m=\u001b[39m \u001b[43mclient\u001b[49m\u001b[38;5;241;43m.\u001b[39;49m\u001b[43minvoke_endpoint\u001b[49m\u001b[43m(\u001b[49m\n\u001b[1;32m    133\u001b[0m \u001b[43m        \u001b[49m\u001b[43magent_arn\u001b[49m\u001b[38;5;241;43m=\u001b[39;49m\u001b[43magent_arn\u001b[49m\u001b[43m,\u001b[49m\n\u001b[1;32m    134\u001b[0m \u001b[43m        \u001b[49m\u001b[43mpayload\u001b[49m\u001b[38;5;241;43m=\u001b[39;49m\u001b[43mpayload_str\u001b[49m\u001b[43m,\u001b[49m\n\u001b[1;32m    135\u001b[0m \u001b[43m        \u001b[49m\u001b[43msession_id\u001b[49m\u001b[38;5;241;43m=\u001b[39;49m\u001b[43msession_id\u001b[49m\u001b[43m,\u001b[49m\n\u001b[1;32m    136\u001b[0m \u001b[43m        \u001b[49m\u001b[43mbearer_token\u001b[49m\u001b[38;5;241;43m=\u001b[39;49m\u001b[43mbearer_token\u001b[49m\u001b[43m,\u001b[49m\n\u001b[1;32m    137\u001b[0m \u001b[43m        \u001b[49m\u001b[43mcustom_headers\u001b[49m\u001b[38;5;241;43m=\u001b[39;49m\u001b[43mcustom_headers\u001b[49m\u001b[43m,\u001b[49m\n\u001b[1;32m    138\u001b[0m \u001b[43m    \u001b[49m\u001b[43m)\u001b[49m\n\u001b[1;32m    139\u001b[0m \u001b[38;5;28;01melse\u001b[39;00m:\n\u001b[1;32m    140\u001b[0m     \u001b[38;5;66;03m# Use existing boto3 client\u001b[39;00m\n\u001b[1;32m    141\u001b[0m     bedrock_agentcore_client \u001b[38;5;241m=\u001b[39m BedrockAgentCoreClient(region)\n",
      "File \u001b[0;32m/opt/conda/lib/python3.12/site-packages/bedrock_agentcore_starter_toolkit/services/runtime.py:560\u001b[0m, in \u001b[0;36mHttpBedrockAgentCoreClient.invoke_endpoint\u001b[0;34m(self, agent_arn, payload, session_id, bearer_token, endpoint_name, custom_headers)\u001b[0m\n\u001b[1;32m    550\u001b[0m \u001b[38;5;28;01mtry\u001b[39;00m:\n\u001b[1;32m    551\u001b[0m     \u001b[38;5;66;03m# Make request with timeout\u001b[39;00m\n\u001b[1;32m    552\u001b[0m     response \u001b[38;5;241m=\u001b[39m requests\u001b[38;5;241m.\u001b[39mpost(\n\u001b[1;32m    553\u001b[0m         url,\n\u001b[1;32m    554\u001b[0m         params\u001b[38;5;241m=\u001b[39m{\u001b[38;5;124m\"\u001b[39m\u001b[38;5;124mqualifier\u001b[39m\u001b[38;5;124m\"\u001b[39m: endpoint_name},\n\u001b[0;32m   (...)\u001b[0m\n\u001b[1;32m    558\u001b[0m         stream\u001b[38;5;241m=\u001b[39m\u001b[38;5;28;01mTrue\u001b[39;00m,\n\u001b[1;32m    559\u001b[0m     )\n\u001b[0;32m--> 560\u001b[0m     \u001b[38;5;28;01mreturn\u001b[39;00m \u001b[43m_handle_http_response\u001b[49m\u001b[43m(\u001b[49m\u001b[43mresponse\u001b[49m\u001b[43m)\u001b[49m\n\u001b[1;32m    561\u001b[0m \u001b[38;5;28;01mexcept\u001b[39;00m requests\u001b[38;5;241m.\u001b[39mexceptions\u001b[38;5;241m.\u001b[39mRequestException \u001b[38;5;28;01mas\u001b[39;00m e:\n\u001b[1;32m    562\u001b[0m     \u001b[38;5;28mself\u001b[39m\u001b[38;5;241m.\u001b[39mlogger\u001b[38;5;241m.\u001b[39merror(\u001b[38;5;124m\"\u001b[39m\u001b[38;5;124mFailed to invoke agent endpoint: \u001b[39m\u001b[38;5;132;01m%s\u001b[39;00m\u001b[38;5;124m\"\u001b[39m, \u001b[38;5;28mstr\u001b[39m(e))\n",
      "File \u001b[0;32m/opt/conda/lib/python3.12/site-packages/bedrock_agentcore_starter_toolkit/services/runtime.py:28\u001b[0m, in \u001b[0;36m_handle_http_response\u001b[0;34m(response)\u001b[0m\n\u001b[1;32m     27\u001b[0m \u001b[38;5;28;01mdef\u001b[39;00m\u001b[38;5;250m \u001b[39m\u001b[38;5;21m_handle_http_response\u001b[39m(response) \u001b[38;5;241m-\u001b[39m\u001b[38;5;241m>\u001b[39m \u001b[38;5;28mdict\u001b[39m:\n\u001b[0;32m---> 28\u001b[0m     \u001b[43mresponse\u001b[49m\u001b[38;5;241;43m.\u001b[39;49m\u001b[43mraise_for_status\u001b[49m\u001b[43m(\u001b[49m\u001b[43m)\u001b[49m\n\u001b[1;32m     29\u001b[0m     \u001b[38;5;28;01mif\u001b[39;00m \u001b[38;5;124m\"\u001b[39m\u001b[38;5;124mtext/event-stream\u001b[39m\u001b[38;5;124m\"\u001b[39m \u001b[38;5;129;01min\u001b[39;00m response\u001b[38;5;241m.\u001b[39mheaders\u001b[38;5;241m.\u001b[39mget(\u001b[38;5;124m\"\u001b[39m\u001b[38;5;124mcontent-type\u001b[39m\u001b[38;5;124m\"\u001b[39m, \u001b[38;5;124m\"\u001b[39m\u001b[38;5;124m\"\u001b[39m):\n\u001b[1;32m     30\u001b[0m         \u001b[38;5;28;01mreturn\u001b[39;00m _handle_streaming_response(response)\n",
      "File \u001b[0;32m/opt/conda/lib/python3.12/site-packages/requests/models.py:1026\u001b[0m, in \u001b[0;36mResponse.raise_for_status\u001b[0;34m(self)\u001b[0m\n\u001b[1;32m   1021\u001b[0m     http_error_msg \u001b[38;5;241m=\u001b[39m (\n\u001b[1;32m   1022\u001b[0m         \u001b[38;5;124mf\u001b[39m\u001b[38;5;124m\"\u001b[39m\u001b[38;5;132;01m{\u001b[39;00m\u001b[38;5;28mself\u001b[39m\u001b[38;5;241m.\u001b[39mstatus_code\u001b[38;5;132;01m}\u001b[39;00m\u001b[38;5;124m Server Error: \u001b[39m\u001b[38;5;132;01m{\u001b[39;00mreason\u001b[38;5;132;01m}\u001b[39;00m\u001b[38;5;124m for url: \u001b[39m\u001b[38;5;132;01m{\u001b[39;00m\u001b[38;5;28mself\u001b[39m\u001b[38;5;241m.\u001b[39murl\u001b[38;5;132;01m}\u001b[39;00m\u001b[38;5;124m\"\u001b[39m\n\u001b[1;32m   1023\u001b[0m     )\n\u001b[1;32m   1025\u001b[0m \u001b[38;5;28;01mif\u001b[39;00m http_error_msg:\n\u001b[0;32m-> 1026\u001b[0m     \u001b[38;5;28;01mraise\u001b[39;00m HTTPError(http_error_msg, response\u001b[38;5;241m=\u001b[39m\u001b[38;5;28mself\u001b[39m)\n",
      "\u001b[0;31mHTTPError\u001b[0m: 424 Client Error: Failed Dependency for url: https://bedrock-agentcore.us-west-2.amazonaws.com/runtimes/arn%3Aaws%3Abedrock-agentcore%3Aus-west-2%3A146859427221%3Aruntime%2Fcustomer_support_agent-NCN2wA5dLi/invocations?qualifier=DEFAULT"
     ]
    }
   ],
   "source": [
    "import uuid\n",
    "\n",
    "# Create a session ID for demonstrating session continuity\n",
    "session_id = uuid.uuid4()\n",
    "\n",
    "# Test different customer support scenarios\n",
    "user_query = \"List all of your tools\"\n",
    "\n",
    "response = agentcore_runtime.invoke(\n",
    "    {\"prompt\": user_query},\n",
    "    bearer_token=access_token[\"bearer_token\"],\n",
    "    session_id=str(session_id),\n",
    ")\n",
    "\n",
    "print(response[\"response\"])"
   ]
  },
  {
   "cell_type": "markdown",
   "id": "79840836-5cd5-4139-a188-09d181438840",
   "metadata": {},
   "source": [
    "#### Invoking the agent with session continuity\n",
    "\n",
    "Since we are using AgentCore Runtime, we can easily continue our conversation with the same session id."
   ]
  },
  {
   "cell_type": "code",
   "execution_count": null,
   "id": "2e378d3f-1fcf-4d8e-b8eb-d34578a788ff",
   "metadata": {
    "execution": {
     "iopub.status.busy": "2025-10-24T18:49:22.634150Z",
     "iopub.status.idle": "2025-10-24T18:49:22.634362Z",
     "shell.execute_reply": "2025-10-24T18:49:22.634263Z",
     "shell.execute_reply.started": "2025-10-24T18:49:22.634253Z"
    }
   },
   "outputs": [],
   "source": [
    "user_query = \"Tell me detailed information about the technical documentation on installing a new CPU\"\n",
    "response = agentcore_runtime.invoke(\n",
    "    {\"prompt\": user_query},\n",
    "    bearer_token=access_token[\"bearer_token\"],\n",
    "    session_id=str(session_id),\n",
    ")\n",
    "print(response[\"response\"])"
   ]
  },
  {
   "cell_type": "markdown",
   "id": "687d63ab-c72d-46a7-a9da-d8b008c75136",
   "metadata": {},
   "source": [
    "#### Invoking the agent with a new user\n",
    "In the example below we have not mentioned the Iphone device in the second query, but our agent still has the context of it. This is due to the AgentCore Runtime session continuity. The agent won't know the context for a new user."
   ]
  },
  {
   "cell_type": "code",
   "execution_count": null,
   "id": "92a84f17-9a71-4025-ba9e-c10682e7cd8e",
   "metadata": {
    "execution": {
     "iopub.status.busy": "2025-10-24T18:49:22.634773Z",
     "iopub.status.idle": "2025-10-24T18:49:22.635011Z",
     "shell.execute_reply": "2025-10-24T18:49:22.634913Z",
     "shell.execute_reply.started": "2025-10-24T18:49:22.634902Z"
    }
   },
   "outputs": [],
   "source": [
    "# Creating a new session ID for demonstrating new customer\n",
    "session_id2 = uuid.uuid4()\n",
    "\n",
    "user_query = \"I have a Gaming Console Pro device , I want to check my warranty status, warranty serial number is MNO33333333.\"\n",
    "response = agentcore_runtime.invoke(\n",
    "    {\"prompt\": user_query},\n",
    "    bearer_token=access_token[\"bearer_token\"],\n",
    "    session_id=str(session_id2),\n",
    ")\n",
    "print(response[\"response\"])"
   ]
  },
  {
   "cell_type": "markdown",
   "id": "087ad1d9",
   "metadata": {},
   "source": [
    "In this case our agent does not have the context anymore and needs more information. \n",
    "\n",
    "And it is all it takes to have a secure and scalable endpoint for our Agent with no need to manage all the underlying infrastructure!"
   ]
  },
  {
   "cell_type": "markdown",
   "id": "ca82b1ee",
   "metadata": {},
   "source": [
    "### Step 5: AgentCore Observability\n",
    "\n",
    "[AgentCore Observability](https://docs.aws.amazon.com/bedrock-agentcore/latest/devguide/observability.html) provides monitoring and tracing capabilities for AI agents using Amazon OpenTelemetry Python Instrumentation and Amazon CloudWatch GenAI Observability.\n",
    "\n",
    "#### Agents\n",
    "\n",
    "Default AgentCore Runtime configuration allows for logging our agent's traces on CloudWatch by means of **AgentCore Observability**. These traces can be seen on the AWS CloudWatch GenAI Observability dashboard. Navigate to Cloudwatch &rarr; GenAI Observability &rarr; Bedrock AgentCore.\n",
    "\n",
    "![Agents Overview on CloudWatch](images/observability_agents.png)\n",
    "\n",
    "#### Sessions\n",
    "\n",
    "The Sessions view shows the list of all the sessions associated with all agents in your account.\n",
    "\n",
    "![sessions](images/sessions_lab5_observability.png)\n",
    "\n",
    "#### Traces\n",
    "\n",
    "Trace view lists all traces from your agents in this account. To work with traces:\n",
    "\n",
    "- Choose Filter traces to search for specific traces.\n",
    "- Sort by column name to organize results.\n",
    "- Under Actions, select Logs Insights to refine your search by querying across your log and span data or select Export selected traces to export.\n",
    "\n",
    "![traces](images/traces_lab4_observability.png)\n"
   ]
  },
  {
   "cell_type": "markdown",
   "id": "7c243e86-a214-483c-aef1-d5243f28ca9e",
   "metadata": {},
   "source": [
    "### Congratulations! 🎉\n",
    "\n",
    "You have successfully completed **Lab 4: Deploy to Production - Use AgentCore Runtime with Observability!**\n",
    "\n",
    "Here is what you accomplished:\n",
    "\n",
    "##### Production-Ready Deployment:\n",
    "\n",
    "- Prepared your agent for production with minimal code changes (only 4 lines added)\n",
    "- Validated proper session isolation between different customers\n",
    "- Confirmed session continuity + memory persistence and context awareness per session\n",
    "\n",
    "##### Enterprise-Grade Security & Identity:\n",
    "\n",
    "- Implemented secure authentication using Cognito integration with JWT tokens\n",
    "- Configured proper IAM roles and execution permissions for production workloads\n",
    "- Established identity-based access control for secure agent invocation\n",
    "\n",
    "##### Comprehensive Observability:\n",
    "\n",
    "- Enabled AgentCore Observability for full request tracing across all customer sessions\n",
    "- Configured CloudWatch GenAI Observability dashboard monitoring\n",
    "\n",
    "##### Current Limitations (We'll fix these next!):\n",
    "\n",
    "- **Developer Focused Interaction** - Agent accessible via SDK/API calls but no user-friendly web interface\n",
    "- **Manual Session Management** - Requires programmatic session creation rather than intuitive user experience\n",
    "\n",
    "##### Next Up [Lab 5: Build User Interface →](lab-05-frontend.ipynb)\n",
    "In Lab 5, you'll complete the customer experience by building a user-friendly interface !! Lets go !!\n"
   ]
  }
 ],
 "metadata": {
  "kernelspec": {
   "display_name": "Python 3 (ipykernel)",
   "language": "python",
   "name": "python3"
  },
  "language_info": {
   "codemirror_mode": {
    "name": "ipython",
    "version": 3
   },
   "file_extension": ".py",
   "mimetype": "text/x-python",
   "name": "python",
   "nbconvert_exporter": "python",
   "pygments_lexer": "ipython3",
   "version": "3.12.9"
  }
 },
 "nbformat": 4,
 "nbformat_minor": 5
}
