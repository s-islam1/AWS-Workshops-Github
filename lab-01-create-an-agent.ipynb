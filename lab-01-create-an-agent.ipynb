{
 "cells": [
  {
   "cell_type": "markdown",
   "metadata": {
    "editable": true,
    "slideshow": {
     "slide_type": ""
    },
    "tags": []
   },
   "source": [
    "## Lab 1: Creating a simple customer support agent prototype\n",
    "\n",
    "### Overview\n",
    "\n",
    "[Amazon Bedrock AgentCore](https://aws.amazon.com/bedrock/agentcore/) helps you deploying and operating AI agents securely at scale - using any framework and model. It provides you with the capability to move from prototype to production faster. \n",
    "\n",
    "In this 5-labs tutorial, we will demonstrate the end-to-end journey from prototype to production using a **Customer Support Agent**. For this example we will use [Strands Agents](https://strandsagents.com/latest/), a simple-to-use, code-first framework for building agents and the Anthropic Claude Sonnet 3.7 model from Amazon Bedrock. For your application you can use the framework and model of your choice. It's important to note that the concepts covered here can be applied using other frameworks and models as well.\n",
    "\n",
    "**Workshop Journey:**\n",
    "- **Lab 1 (Current)**: Create Agent Prototype - Build a functional customer support agent\n",
    "- **Lab 2**: Enhance with Memory - Add conversation context and personalization\n",
    "- **Lab 3**: Scale with Gateway & Identity - Share tools across agents securely\n",
    "- **Lab 4**: Deploy to Production - Use AgentCore Runtime with observability\n",
    "- **Lab 5**: Build User Interface - Create a customer-facing application\n",
    "\n",
    "In this first lab, we'll build a Customer Support Agent prototype that will evolve throughout the workshop into a production-ready system serving multiple customers with persistent memory, shared tools, and full observability. Our agent will have the following local tools available:\n",
    "- **get_return_policy()** - Get return policy for specific products\n",
    "- **get_product_info()** - Get product information\n",
    "- **web_search()** - Search the web for troubleshooting help\n",
    "- **get_technical_support()** - Search a Bedrock Knowledge Base\n",
    "\n",
    "\n",
    "### Architecture for Lab 1\n",
    "<div style=\"text-align:left\">\n",
    "    <img src=\"images/architecture_lab1_strands.png\" width=\"75%\"/>\n",
    "</div>\n",
    "\n",
    "*Simple prototype running locally. In subsequent labs, we'll migrate this to AgentCore services with shared tools, persistent memory, and production-grade observability.*\n",
    "\n",
    "### Prerequisites\n",
    "\n",
    "* **AWS Account** with appropriate permissions\n",
    "* **Python 3.10+** installed locally\n",
    "* **AWS CLI configured** with credentials\n",
    "* **Anthropic Claude 3.7** enabled on [Amazon Bedrock](https://docs.aws.amazon.com/bedrock/latest/userguide/model-access.html)\n",
    "* **Strands Agents** and other libraries installed in the next cells\n",
    "#### Not using an AWS workshop account? \n",
    "\n",
    "**Note:** If you are running this as a self-paced lab you must run create the cloudformation resources as shown in the workshop self-paced steps. If you have not, then uncomment and run the below code segment"
   ]
  },
  {
   "cell_type": "code",
   "execution_count": 1,
   "metadata": {
    "execution": {
     "iopub.execute_input": "2025-10-26T04:50:20.178804Z",
     "iopub.status.busy": "2025-10-26T04:50:20.178551Z",
     "iopub.status.idle": "2025-10-26T04:50:20.181565Z",
     "shell.execute_reply": "2025-10-26T04:50:20.181021Z",
     "shell.execute_reply.started": "2025-10-26T04:50:20.178783Z"
    }
   },
   "outputs": [],
   "source": [
    "#!bash scripts/prereq.sh"
   ]
  },
  {
   "cell_type": "markdown",
   "metadata": {},
   "source": [
    "### Step 1: Install Dependencies and Import Libraries\n",
    "Before we start, let's install the pre-requisites for this lab"
   ]
  },
  {
   "cell_type": "code",
   "execution_count": 2,
   "metadata": {
    "execution": {
     "iopub.execute_input": "2025-10-26T04:50:23.873466Z",
     "iopub.status.busy": "2025-10-26T04:50:23.873212Z",
     "iopub.status.idle": "2025-10-26T04:50:28.026215Z",
     "shell.execute_reply": "2025-10-26T04:50:28.025603Z",
     "shell.execute_reply.started": "2025-10-26T04:50:23.873443Z"
    }
   },
   "outputs": [
    {
     "name": "stdout",
     "output_type": "stream",
     "text": [
      "Note: you may need to restart the kernel to use updated packages.\n"
     ]
    }
   ],
   "source": [
    "# Install required packages\n",
    "%pip install -U -r requirements.txt -q"
   ]
  },
  {
   "cell_type": "markdown",
   "metadata": {},
   "source": [
    "We can now import the required libraries and initialize our boto3 session"
   ]
  },
  {
   "cell_type": "code",
   "execution_count": 3,
   "metadata": {
    "execution": {
     "iopub.execute_input": "2025-10-26T04:50:44.884000Z",
     "iopub.status.busy": "2025-10-26T04:50:44.883740Z",
     "iopub.status.idle": "2025-10-26T04:50:45.505616Z",
     "shell.execute_reply": "2025-10-26T04:50:45.505117Z",
     "shell.execute_reply.started": "2025-10-26T04:50:44.883978Z"
    }
   },
   "outputs": [],
   "source": [
    "# Import libraries\n",
    "import boto3\n",
    "from boto3.session import Session\n",
    "\n",
    "from ddgs.exceptions import DDGSException, RatelimitException\n",
    "from ddgs import DDGS\n",
    "\n",
    "from strands.tools import tool"
   ]
  },
  {
   "cell_type": "code",
   "execution_count": 4,
   "metadata": {
    "execution": {
     "iopub.execute_input": "2025-10-26T04:50:58.714098Z",
     "iopub.status.busy": "2025-10-26T04:50:58.713606Z",
     "iopub.status.idle": "2025-10-26T04:50:58.725182Z",
     "shell.execute_reply": "2025-10-26T04:50:58.724702Z",
     "shell.execute_reply.started": "2025-10-26T04:50:58.714075Z"
    }
   },
   "outputs": [],
   "source": [
    "# Get boto session\n",
    "boto_session = Session()\n",
    "region = boto_session.region_name"
   ]
  },
  {
   "cell_type": "markdown",
   "metadata": {},
   "source": [
    "### Step 2: Implementing custom tools\n",
    "\n",
    "Next, we will implement the 3 tools which will be provided to the Customer Support Agent.\n",
    "\n",
    "Defining tools in Strands Agent is extremely simple, just add a `@tool` decorator to your function, and provide a description of the tool in the function's docstring. Strands Agents will use the function documentation, typing and arguments to provide context on this tool to your agent. \n"
   ]
  },
  {
   "cell_type": "markdown",
   "metadata": {},
   "source": [
    "#### Tool 1: Get Return Policy\n",
    "\n",
    "**Purpose:** This tool helps customers understand return policies for different product categories. It provides detailed information about return windows, conditions, processes, and refund timelines so customers know exactly what to expect when returning items."
   ]
  },
  {
   "cell_type": "code",
   "execution_count": 9,
   "metadata": {
    "execution": {
     "iopub.execute_input": "2025-10-24T18:15:06.905393Z",
     "iopub.status.busy": "2025-10-24T18:15:06.905124Z",
     "iopub.status.idle": "2025-10-24T18:15:06.913585Z",
     "shell.execute_reply": "2025-10-24T18:15:06.913005Z",
     "shell.execute_reply.started": "2025-10-24T18:15:06.905371Z"
    }
   },
   "outputs": [
    {
     "name": "stdout",
     "output_type": "stream",
     "text": [
      "✅ Return policy tool ready\n"
     ]
    }
   ],
   "source": [
    "@tool\n",
    "def get_return_policy(product_category: str) -> str:\n",
    "    \"\"\"\n",
    "    Get return policy information for a specific product category.\n",
    "\n",
    "    Args:\n",
    "        product_category: Electronics category (e.g., 'smartphones', 'laptops', 'accessories')\n",
    "\n",
    "    Returns:\n",
    "        Formatted return policy details including timeframes and conditions\n",
    "    \"\"\"\n",
    "    # Mock return policy database - in real implementation, this would query policy database\n",
    "    return_policies = {\n",
    "        \"smartphones\": {\n",
    "            \"window\": \"30 days\",\n",
    "            \"condition\": \"Original packaging, no physical damage, factory reset required\",\n",
    "            \"process\": \"Online RMA portal or technical support\",\n",
    "            \"refund_time\": \"5-7 business days after inspection\",\n",
    "            \"shipping\": \"Free return shipping, prepaid label provided\",\n",
    "            \"warranty\": \"1-year manufacturer warranty included\",\n",
    "        },\n",
    "        \"laptops\": {\n",
    "            \"window\": \"30 days\",\n",
    "            \"condition\": \"Original packaging, all accessories, no software modifications\",\n",
    "            \"process\": \"Technical support verification required before return\",\n",
    "            \"refund_time\": \"7-10 business days after inspection\",\n",
    "            \"shipping\": \"Free return shipping with original packaging\",\n",
    "            \"warranty\": \"1-year manufacturer warranty, extended options available\",\n",
    "        },\n",
    "        \"accessories\": {\n",
    "            \"window\": \"30 days\",\n",
    "            \"condition\": \"Unopened packaging preferred, all components included\",\n",
    "            \"process\": \"Online return portal\",\n",
    "            \"refund_time\": \"3-5 business days after receipt\",\n",
    "            \"shipping\": \"Customer pays return shipping under $50\",\n",
    "            \"warranty\": \"90-day manufacturer warranty\",\n",
    "        },\n",
    "    }\n",
    "\n",
    "    # Default policy for unlisted categories\n",
    "    default_policy = {\n",
    "        \"window\": \"30 days\",\n",
    "        \"condition\": \"Original condition with all included components\",\n",
    "        \"process\": \"Contact technical support\",\n",
    "        \"refund_time\": \"5-7 business days after inspection\",\n",
    "        \"shipping\": \"Return shipping policies vary\",\n",
    "        \"warranty\": \"Standard manufacturer warranty applies\",\n",
    "    }\n",
    "\n",
    "    policy = return_policies.get(product_category.lower(), default_policy)\n",
    "    return (\n",
    "        f\"Return Policy - {product_category.title()}:\\n\\n\"\n",
    "        f\"• Return window: {policy['window']} from delivery\\n\"\n",
    "        f\"• Condition: {policy['condition']}\\n\"\n",
    "        f\"• Process: {policy['process']}\\n\"\n",
    "        f\"• Refund timeline: {policy['refund_time']}\\n\"\n",
    "        f\"• Shipping: {policy['shipping']}\\n\"\n",
    "        f\"• Warranty: {policy['warranty']}\"\n",
    "    )\n",
    "\n",
    "\n",
    "print(\"✅ Return policy tool ready\")"
   ]
  },
  {
   "cell_type": "markdown",
   "metadata": {},
   "source": [
    "#### Tool 2: Get Product Information\n",
    "\n",
    "**Purpose:** This tool provides customers with comprehensive product details including warranties, available models, key features, shipping policies, and return information. It helps customers make informed purchasing decisions and understand what they're buying."
   ]
  },
  {
   "cell_type": "code",
   "execution_count": 10,
   "metadata": {
    "execution": {
     "iopub.execute_input": "2025-10-24T18:15:27.352303Z",
     "iopub.status.busy": "2025-10-24T18:15:27.352041Z",
     "iopub.status.idle": "2025-10-24T18:15:27.359591Z",
     "shell.execute_reply": "2025-10-24T18:15:27.359044Z",
     "shell.execute_reply.started": "2025-10-24T18:15:27.352281Z"
    }
   },
   "outputs": [
    {
     "name": "stdout",
     "output_type": "stream",
     "text": [
      "✅ get_product_info tool ready\n"
     ]
    }
   ],
   "source": [
    "@tool\n",
    "def get_product_info(product_type: str) -> str:\n",
    "    \"\"\"\n",
    "    Get detailed technical specifications and information for electronics products.\n",
    "\n",
    "    Args:\n",
    "        product_type: Electronics product type (e.g., 'laptops', 'smartphones', 'headphones', 'monitors')\n",
    "    Returns:\n",
    "        Formatted product information including warranty, features, and policies\n",
    "    \"\"\"\n",
    "    # Mock product catalog - in real implementation, this would query a product database\n",
    "    products = {\n",
    "        \"laptops\": {\n",
    "            \"warranty\": \"1-year manufacturer warranty + optional extended coverage\",\n",
    "            \"specs\": \"Intel/AMD processors, 8-32GB RAM, SSD storage, various display sizes\",\n",
    "            \"features\": \"Backlit keyboards, USB-C/Thunderbolt, Wi-Fi 6, Bluetooth 5.0\",\n",
    "            \"compatibility\": \"Windows 11, macOS, Linux support varies by model\",\n",
    "            \"support\": \"Technical support and driver updates included\",\n",
    "        },\n",
    "        \"smartphones\": {\n",
    "            \"warranty\": \"1-year manufacturer warranty\",\n",
    "            \"specs\": \"5G/4G connectivity, 128GB-1TB storage, multiple camera systems\",\n",
    "            \"features\": \"Wireless charging, water resistance, biometric security\",\n",
    "            \"compatibility\": \"iOS/Android, carrier unlocked options available\",\n",
    "            \"support\": \"Software updates and technical support included\",\n",
    "        },\n",
    "        \"headphones\": {\n",
    "            \"warranty\": \"1-year manufacturer warranty\",\n",
    "            \"specs\": \"Wired/wireless options, noise cancellation, 20Hz-20kHz frequency\",\n",
    "            \"features\": \"Active noise cancellation, touch controls, voice assistant\",\n",
    "            \"compatibility\": \"Bluetooth 5.0+, 3.5mm jack, USB-C charging\",\n",
    "            \"support\": \"Firmware updates via companion app\",\n",
    "        },\n",
    "        \"monitors\": {\n",
    "            \"warranty\": \"3-year manufacturer warranty\",\n",
    "            \"specs\": \"4K/1440p/1080p resolutions, IPS/OLED panels, various sizes\",\n",
    "            \"features\": \"HDR support, high refresh rates, adjustable stands\",\n",
    "            \"compatibility\": \"HDMI, DisplayPort, USB-C inputs\",\n",
    "            \"support\": \"Color calibration and technical support\",\n",
    "        },\n",
    "    }\n",
    "    product = products.get(product_type.lower())\n",
    "    if not product:\n",
    "        return f\"Technical specifications for {product_type} not available. Please contact our technical support team for detailed product information and compatibility requirements.\"\n",
    "\n",
    "    return (\n",
    "        f\"Technical Information - {product_type.title()}:\\n\\n\"\n",
    "        f\"• Warranty: {product['warranty']}\\n\"\n",
    "        f\"• Specifications: {product['specs']}\\n\"\n",
    "        f\"• Key Features: {product['features']}\\n\"\n",
    "        f\"• Compatibility: {product['compatibility']}\\n\"\n",
    "        f\"• Support: {product['support']}\"\n",
    "    )\n",
    "\n",
    "\n",
    "print(\"✅ get_product_info tool ready\")"
   ]
  },
  {
   "cell_type": "markdown",
   "metadata": {},
   "source": [
    "#### Tool 3: Web-search\n",
    "\n",
    "**Purpose:** This tool allows customers to get troubleshooting support or suggestions on product recommendations etc."
   ]
  },
  {
   "cell_type": "code",
   "execution_count": 11,
   "metadata": {
    "execution": {
     "iopub.execute_input": "2025-10-24T18:15:34.951557Z",
     "iopub.status.busy": "2025-10-24T18:15:34.951285Z",
     "iopub.status.idle": "2025-10-24T18:15:34.958645Z",
     "shell.execute_reply": "2025-10-24T18:15:34.958179Z",
     "shell.execute_reply.started": "2025-10-24T18:15:34.951535Z"
    }
   },
   "outputs": [
    {
     "name": "stdout",
     "output_type": "stream",
     "text": [
      "✅ Web search tool ready\n"
     ]
    }
   ],
   "source": [
    "@tool\n",
    "def web_search(keywords: str, region: str = \"us-en\", max_results: int = 5) -> str:\n",
    "    \"\"\"Search the web for updated information.\n",
    "\n",
    "    Args:\n",
    "        keywords (str): The search query keywords.\n",
    "        region (str): The search region: wt-wt, us-en, uk-en, ru-ru, etc..\n",
    "        max_results (int | None): The maximum number of results to return.\n",
    "    Returns:\n",
    "        List of dictionaries with search results.\n",
    "\n",
    "    \"\"\"\n",
    "    try:\n",
    "        results = DDGS().text(keywords, region=region, max_results=max_results)\n",
    "        return results if results else \"No results found.\"\n",
    "    except RatelimitException:\n",
    "        return \"Rate limit reached. Please try again later.\"\n",
    "    except DDGSException as e:\n",
    "        return f\"Search error: {e}\"\n",
    "    except Exception as e:\n",
    "        return f\"Search error: {str(e)}\"\n",
    "\n",
    "\n",
    "print(\"✅ Web search tool ready\")"
   ]
  },
  {
   "cell_type": "markdown",
   "metadata": {},
   "source": [
    "#### Customer Support Agent - Knowledge Base Integration Steps\n",
    "\n",
    "##### Download product technical_support files from S3"
   ]
  },
  {
   "cell_type": "code",
   "execution_count": 12,
   "metadata": {
    "execution": {
     "iopub.execute_input": "2025-10-24T18:15:43.302197Z",
     "iopub.status.busy": "2025-10-24T18:15:43.301946Z",
     "iopub.status.idle": "2025-10-24T18:15:43.804607Z",
     "shell.execute_reply": "2025-10-24T18:15:43.804102Z",
     "shell.execute_reply.started": "2025-10-24T18:15:43.302175Z"
    }
   },
   "outputs": [
    {
     "name": "stdout",
     "output_type": "stream",
     "text": [
      "Downloaded: laptop-maintenance-guide.txt\n",
      "Downloaded: monitor-calibration-guide.txt\n",
      "Downloaded: smartphone-setup-guide.txt\n",
      "Downloaded: troubleshooting-guide.txt\n",
      "Downloaded: warranty-service-guide.txt\n",
      "Downloaded: wireless-connectivity-guide.txt\n",
      "All files saved to: knowledge_base_data/\n"
     ]
    }
   ],
   "source": [
    "import os\n",
    "\n",
    "\n",
    "def download_files():\n",
    "    # Get account and region\n",
    "    account_id = boto3.client(\"sts\").get_caller_identity()[\"Account\"]\n",
    "    region = boto3.Session().region_name\n",
    "    bucket_name = f\"{account_id}-{region}-kb-data-bucket\"\n",
    "\n",
    "    # Create local folder\n",
    "    os.makedirs(\"knowledge_base_data\", exist_ok=True)\n",
    "\n",
    "    # Download all files\n",
    "    s3 = boto3.client(\"s3\")\n",
    "    objects = s3.list_objects_v2(Bucket=bucket_name)\n",
    "\n",
    "    for obj in objects[\"Contents\"]:\n",
    "        file_name = obj[\"Key\"]\n",
    "        s3.download_file(bucket_name, file_name, f\"knowledge_base_data/{file_name}\")\n",
    "        print(f\"Downloaded: {file_name}\")\n",
    "\n",
    "    print(\"All files saved to: knowledge_base_data/\")\n",
    "\n",
    "\n",
    "# Run it\n",
    "download_files()"
   ]
  },
  {
   "cell_type": "markdown",
   "metadata": {},
   "source": [
    "#### Knowledge Base Sync Job\n",
    "\n",
    "##### Sync the knowledge base with product technical_support files from S3 which can be integrated with the agent"
   ]
  },
  {
   "cell_type": "code",
   "execution_count": 13,
   "metadata": {
    "execution": {
     "iopub.execute_input": "2025-10-24T18:17:20.602953Z",
     "iopub.status.busy": "2025-10-24T18:17:20.602598Z",
     "iopub.status.idle": "2025-10-24T18:17:31.976787Z",
     "shell.execute_reply": "2025-10-24T18:17:31.976245Z",
     "shell.execute_reply.started": "2025-10-24T18:17:20.602923Z"
    }
   },
   "outputs": [
    {
     "name": "stdout",
     "output_type": "stream",
     "text": [
      "Bedrock knowledge base sync job started, ingesting the data files from s3\n",
      "Bedrock knowledge base sync job completed Successfully, ingested 6 files\n",
      "Files ingested: laptop-maintenance-guide.txt, monitor-calibration-guide.txt, smartphone-setup-guide.txt, troubleshooting-guide.txt, warranty-service-guide.txt, wireless-connectivity-guide.txt\n"
     ]
    }
   ],
   "source": [
    "import time\n",
    "\n",
    "# Get parameters\n",
    "ssm = boto3.client(\"ssm\")\n",
    "bedrock = boto3.client(\"bedrock-agent\")\n",
    "s3 = boto3.client(\"s3\")\n",
    "\n",
    "account_id = boto3.client(\"sts\").get_caller_identity()[\"Account\"]\n",
    "region = boto3.Session().region_name\n",
    "\n",
    "kb_id = ssm.get_parameter(Name=f\"/{account_id}-{region}/kb/knowledge-base-id\")[\n",
    "    \"Parameter\"\n",
    "][\"Value\"]\n",
    "ds_id = ssm.get_parameter(Name=f\"/{account_id}-{region}/kb/data-source-id\")[\n",
    "    \"Parameter\"\n",
    "][\"Value\"]\n",
    "\n",
    "# Get file names from S3 bucket\n",
    "bucket_name = f\"{account_id}-{region}-kb-data-bucket\"\n",
    "s3_objects = s3.list_objects_v2(Bucket=bucket_name)\n",
    "file_names = [obj[\"Key\"] for obj in s3_objects.get(\"Contents\", [])]\n",
    "\n",
    "# Start sync job\n",
    "response = bedrock.start_ingestion_job(\n",
    "    knowledgeBaseId=kb_id, dataSourceId=ds_id, description=\"Quick sync\"\n",
    ")\n",
    "\n",
    "job_id = response[\"ingestionJob\"][\"ingestionJobId\"]\n",
    "print(\"Bedrock knowledge base sync job started, ingesting the data files from s3\")\n",
    "\n",
    "# Monitor until complete\n",
    "while True:\n",
    "    job = bedrock.get_ingestion_job(\n",
    "        knowledgeBaseId=kb_id, dataSourceId=ds_id, ingestionJobId=job_id\n",
    "    )[\"ingestionJob\"]\n",
    "\n",
    "    status = job[\"status\"]\n",
    "\n",
    "    if status in [\"COMPLETE\", \"FAILED\"]:\n",
    "        break\n",
    "\n",
    "    time.sleep(10)\n",
    "\n",
    "# Print final result\n",
    "if status == \"COMPLETE\":\n",
    "    file_count = job.get(\"statistics\", {}).get(\"numberOfDocumentsScanned\", 0)\n",
    "    files_list = \", \".join(file_names)\n",
    "    print(\n",
    "        f\"Bedrock knowledge base sync job completed Successfully, ingested {file_count} files\"\n",
    "    )\n",
    "    print(f\"Files ingested: {files_list}\")\n",
    "else:\n",
    "    print(f\"Bedrock knowledge base sync job failed with status: {status}\")"
   ]
  },
  {
   "cell_type": "markdown",
   "metadata": {},
   "source": [
    "#### Tool 4: Get Technical Support\n",
    "\n",
    "**Purpose:**  This tool provides customers with comprehensive technical support and troubleshooting assistance by accessing our knowledge base of electronics documentation. It includes detailed setup guides, maintenance instructions, troubleshooting steps, connectivity solutions, and warranty service information. This tool helps customers resolve technical issues, properly configure their devices, and understand maintenance requirements for optimal product performance."
   ]
  },
  {
   "cell_type": "code",
   "execution_count": 14,
   "metadata": {
    "editable": true,
    "execution": {
     "iopub.execute_input": "2025-10-24T18:17:31.977904Z",
     "iopub.status.busy": "2025-10-24T18:17:31.977667Z",
     "iopub.status.idle": "2025-10-24T18:17:31.984667Z",
     "shell.execute_reply": "2025-10-24T18:17:31.984228Z",
     "shell.execute_reply.started": "2025-10-24T18:17:31.977884Z"
    },
    "slideshow": {
     "slide_type": ""
    },
    "tags": []
   },
   "outputs": [
    {
     "name": "stdout",
     "output_type": "stream",
     "text": [
      "✅ Technical support tool ready\n"
     ]
    }
   ],
   "source": [
    "from strands.models import BedrockModel\n",
    "from strands import Agent\n",
    "from strands_tools import retrieve\n",
    "\n",
    "\n",
    "@tool\n",
    "def get_technical_support(issue_description: str) -> str:\n",
    "    try:\n",
    "        # Get KB ID from parameter store\n",
    "        ssm = boto3.client(\"ssm\")\n",
    "        account_id = boto3.client(\"sts\").get_caller_identity()[\"Account\"]\n",
    "        region = boto3.Session().region_name\n",
    "\n",
    "        kb_id = ssm.get_parameter(Name=f\"/{account_id}-{region}/kb/knowledge-base-id\")[\n",
    "            \"Parameter\"\n",
    "        ][\"Value\"]\n",
    "        print(f\"Successfully retrieved KB ID: {kb_id}\")\n",
    "\n",
    "        # Use strands retrieve tool\n",
    "        tool_use = {\n",
    "            \"toolUseId\": \"tech_support_query\",\n",
    "            \"input\": {\n",
    "                \"text\": issue_description,\n",
    "                \"knowledgeBaseId\": kb_id,\n",
    "                \"region\": region,\n",
    "                \"numberOfResults\": 3,\n",
    "                \"score\": 0.4,\n",
    "            },\n",
    "        }\n",
    "\n",
    "        result = retrieve.retrieve(tool_use)\n",
    "\n",
    "        if result[\"status\"] == \"success\":\n",
    "            return result[\"content\"][0][\"text\"]\n",
    "        else:\n",
    "            return f\"Unable to access technical support documentation. Error: {result['content'][0]['text']}\"\n",
    "\n",
    "    except Exception as e:\n",
    "        print(f\"Detailed error in get_technical_support: {str(e)}\")\n",
    "        return f\"Unable to access technical support documentation. Error: {str(e)}\"\n",
    "\n",
    "\n",
    "print(\"✅ Technical support tool ready\")"
   ]
  },
  {
   "cell_type": "markdown",
   "metadata": {},
   "source": [
    "### Step 4: Create and Configure the Customer Support Agent\n",
    "\n",
    "Next, we will create the Customer Support Agent providing a model, the list of tools implemented in the previous step, and with a system prompt."
   ]
  },
  {
   "cell_type": "code",
   "execution_count": 15,
   "metadata": {
    "execution": {
     "iopub.execute_input": "2025-10-24T18:17:31.985315Z",
     "iopub.status.busy": "2025-10-24T18:17:31.985132Z",
     "iopub.status.idle": "2025-10-24T18:17:32.050760Z",
     "shell.execute_reply": "2025-10-24T18:17:32.050256Z",
     "shell.execute_reply.started": "2025-10-24T18:17:31.985298Z"
    }
   },
   "outputs": [
    {
     "name": "stdout",
     "output_type": "stream",
     "text": [
      "Customer Support Agent created successfully!\n"
     ]
    }
   ],
   "source": [
    "SYSTEM_PROMPT = \"\"\"You are a helpful and professional customer support assistant for an electronics e-commerce company.\n",
    "Your role is to:\n",
    "- Provide accurate information using the tools available to you\n",
    "- Support the customer with technical information and product specifications, and maintenance questions\n",
    "- Be friendly, patient, and understanding with customers\n",
    "- Always offer additional help after answering questions\n",
    "- If you can't help with something, direct customers to the appropriate contact\n",
    "\n",
    "You have access to the following tools:\n",
    "1. get_return_policy() - For warranty and return policy questions\n",
    "2. get_product_info() - To get information about a specific product\n",
    "3. web_search() - To access current technical documentation, or for updated information. \n",
    "4. get_technical_support() - For troubleshooting issues, setup guides, maintenance tips, and detailed technical assistance\n",
    "For any technical problems, setup questions, or maintenance concerns, always use the get_technical_support() tool as it contains our comprehensive technical documentation and step-by-step guides.\n",
    "\n",
    "Always use the appropriate tool to get accurate, up-to-date information rather than making assumptions about electronic products or specifications.\"\"\"\n",
    "\n",
    "# Initialize the Bedrock model (Anthropic Claude 3.7 Sonnet)\n",
    "model = BedrockModel(\n",
    "    model_id=\"us.anthropic.claude-3-7-sonnet-20250219-v1:0\",\n",
    "    temperature=0.3,\n",
    "    region_name=region,\n",
    ")\n",
    "\n",
    "# Create the customer support agent with all tools\n",
    "agent = Agent(\n",
    "    model=model,\n",
    "    tools=[\n",
    "        get_product_info,  # Tool 1: Simple product information lookup\n",
    "        get_return_policy,  # Tool 2: Simple return policy lookup\n",
    "        web_search,  # Tool 3: Access the web for updated information\n",
    "        get_technical_support,  # Tool 4: Technical support & troubleshooting\n",
    "    ],\n",
    "    system_prompt=SYSTEM_PROMPT,\n",
    ")\n",
    "\n",
    "print(\"Customer Support Agent created successfully!\")"
   ]
  },
  {
   "cell_type": "markdown",
   "metadata": {},
   "source": [
    "### Step 5: Test the Customer Support Agent\n",
    "\n",
    "Let's test our agent with sample queries to ensure all tools work correctly.\n",
    "\n",
    "#### Test Return check"
   ]
  },
  {
   "cell_type": "code",
   "execution_count": 16,
   "metadata": {
    "execution": {
     "iopub.execute_input": "2025-10-24T18:17:32.052142Z",
     "iopub.status.busy": "2025-10-24T18:17:32.051869Z",
     "iopub.status.idle": "2025-10-24T18:17:38.669236Z",
     "shell.execute_reply": "2025-10-24T18:17:38.668724Z",
     "shell.execute_reply.started": "2025-10-24T18:17:32.052120Z"
    }
   },
   "outputs": [
    {
     "name": "stdout",
     "output_type": "stream",
     "text": [
      "I'd be happy to provide you with information about the return policy for your ThinkPad X1 Carbon. Let me look that up for you.\n",
      "Tool #1: get_return_policy\n",
      "Thank you for your inquiry about the return policy for your ThinkPad X1 Carbon. Here's the information you need:\n",
      "\n",
      "**Return Policy for Your ThinkPad X1 Carbon:**\n",
      "- You have a 30-day return window from the date of delivery\n",
      "- The laptop must be returned in its original packaging with all accessories included\n",
      "- No software modifications should be made to the device\n",
      "- Before processing a return, our technical support team will need to verify the condition\n",
      "- Once approved and inspected, you'll receive your refund within 7-10 business days\n",
      "- Return shipping is free when using the original packaging\n",
      "- Your laptop comes with a 1-year manufacturer warranty, with options to extend\n",
      "\n",
      "Is there anything specific about the return process you'd like to know more about? Or perhaps you're experiencing an issue with your ThinkPad that I could help troubleshoot?"
     ]
    }
   ],
   "source": [
    "response = agent(\"What's the return policy for my thinkpad X1 Carbon?\")"
   ]
  },
  {
   "cell_type": "code",
   "execution_count": 17,
   "metadata": {
    "execution": {
     "iopub.execute_input": "2025-10-24T18:17:38.669977Z",
     "iopub.status.busy": "2025-10-24T18:17:38.669782Z",
     "iopub.status.idle": "2025-10-24T18:17:49.656288Z",
     "shell.execute_reply": "2025-10-24T18:17:49.655780Z",
     "shell.execute_reply.started": "2025-10-24T18:17:38.669959Z"
    }
   },
   "outputs": [
    {
     "name": "stdout",
     "output_type": "stream",
     "text": [
      "I'm sorry to hear your ThinkPad X1 Carbon won't turn on. Let me help you troubleshoot this issue by getting some technical support information for you.\n",
      "Tool #2: get_technical_support\n",
      "Successfully retrieved KB ID: 0IK0YI6AX2\n",
      "Based on the technical support information, here are several steps you should check when your ThinkPad X1 Carbon won't turn on:\n",
      "\n",
      "### Immediate Steps to Try:\n",
      "1. **Check power cable connections**\n",
      "   - Ensure the power adapter is firmly connected to both the laptop and the wall outlet\n",
      "   - Look for any visible damage to the cable or adapter\n",
      "\n",
      "2. **Verify power outlet functionality**\n",
      "   - Try plugging another device into the same outlet to confirm it's working\n",
      "   - Try connecting your laptop to a different outlet\n",
      "\n",
      "3. **Try a different power cable if available**\n",
      "   - If you have access to another compatible ThinkPad charger, see if that works\n",
      "\n",
      "4. **Check for physical damage**\n",
      "   - Inspect the charging port for bent pins or debris\n",
      "   - Look for any signs of liquid damage or other physical issues\n",
      "\n",
      "### Additional Troubleshooting:\n",
      "- **Battery reset**: Disconnect the power adapter, remove the battery (if possible on your model), hold the power button for 30 seconds, then reconnect everything and try again\n",
      "- **Power button check**: Make sure you're holding the power button long enough (3-5 seconds)\n",
      "- **Check for display issues**: It's possible the laptop is on but the display isn't working - look for power lights, fan noise, or connect to an external monitor\n",
      "\n",
      "If these steps don't resolve the issue, your laptop might need professional service. Since your ThinkPad X1 Carbon comes with a 1-year manufacturer warranty, this issue should be covered if you're within the warranty period.\n",
      "\n",
      "Would you like me to provide more specific troubleshooting steps for any of these suggestions? Or would you like information about how to arrange service under your warranty?"
     ]
    }
   ],
   "source": [
    "response = agent(\"My laptop won't turn on, what should I check?\")"
   ]
  },
  {
   "cell_type": "markdown",
   "metadata": {},
   "source": [
    "#### Test Troubleshooting"
   ]
  },
  {
   "cell_type": "code",
   "execution_count": 18,
   "metadata": {
    "execution": {
     "iopub.execute_input": "2025-10-24T18:17:49.657002Z",
     "iopub.status.busy": "2025-10-24T18:17:49.656814Z",
     "iopub.status.idle": "2025-10-24T18:18:06.026063Z",
     "shell.execute_reply": "2025-10-24T18:18:06.025533Z",
     "shell.execute_reply.started": "2025-10-24T18:17:49.656986Z"
    }
   },
   "outputs": [
    {
     "name": "stdout",
     "output_type": "stream",
     "text": [
      "I understand your concern about your iPhone 14 heating up. This can be frustrating, but let me help you troubleshoot this issue. Let me get some technical support information for you.\n",
      "Tool #3: get_technical_support\n",
      "Successfully retrieved KB ID: 0IK0YI6AX2\n",
      "Let me also check for more specific information about iPhones and their return policy:\n",
      "Tool #4: get_product_info\n",
      "\n",
      "Tool #5: get_return_policy\n",
      "Thank you for sharing your concern about your iPhone 14 heating up. Since you purchased it last month, I have some options for you to consider:\n",
      "\n",
      "### Troubleshooting Steps for iPhone 14 Overheating:\n",
      "\n",
      "1. **Check for Background Apps**\n",
      "   - Close unused apps running in the background\n",
      "   - Check which apps are consuming the most battery (Settings > Battery)\n",
      "\n",
      "2. **Update iOS Software**\n",
      "   - Go to Settings > General > Software Update\n",
      "   - Outdated software can cause performance issues and overheating\n",
      "\n",
      "3. **Manage Location Services**\n",
      "   - Some apps using constant location tracking can cause heating\n",
      "   - Go to Settings > Privacy > Location Services to adjust app permissions\n",
      "\n",
      "4. **Reduce Screen Brightness**\n",
      "   - Lower brightness or use auto-brightness\n",
      "   - This can significantly reduce heat generation\n",
      "\n",
      "5. **Remove Protective Case**\n",
      "   - Some cases can trap heat; try using your phone without the case temporarily\n",
      "\n",
      "6. **Avoid Direct Sunlight**\n",
      "   - Using your phone in direct sunlight can cause overheating\n",
      "\n",
      "7. **Reset Settings**\n",
      "   - Try Settings > General > Reset > Reset All Settings (this won't delete data)\n",
      "\n",
      "### Return Option:\n",
      "Since you purchased your iPhone 14 less than 30 days ago, you're still within the return window. According to our return policy for smartphones:\n",
      "- You have 30 days from delivery to return\n",
      "- The phone must be in its original packaging with no physical damage\n",
      "- You'll need to factory reset the device before returning\n",
      "- You can process the return through our online RMA portal or contact technical support\n",
      "- We provide free return shipping with a prepaid label\n",
      "- Refund will be processed within 5-7 business days after inspection\n",
      "\n",
      "Would you like to try the troubleshooting steps first, or would you prefer to proceed with a return? I'm happy to provide more detailed guidance on either option."
     ]
    }
   ],
   "source": [
    "response = agent(\n",
    "    \"I bought an iphone 14 last month. I don't like it because it heats up. How do I solve it?\"\n",
    ")"
   ]
  },
  {
   "cell_type": "markdown",
   "metadata": {},
   "source": [
    "## 🎉 Lab 1 Complete!\n",
    "\n",
    "You've successfully created a functional Customer Support Agent prototype! Here's what you accomplished:\n",
    "\n",
    "- Built an agent with 3 custom tools (return policy, product info, web search)  \n",
    "- Tested multi-tool interactions and web search capabilities  \n",
    "- Established the foundation for our production journey  \n",
    "\n",
    "### Current Limitations (We'll fix these!)\n",
    "- **Single user conversation memory** - local conversation session, multiple customers need multiple sessions.\n",
    "- **Conversation history limited to session** - no long term memory or cross session information is available in the conversation.\n",
    "- **Tools reusability** - tools aren't reusable across different agents  \n",
    "- **Running locally only** - not scalable\n",
    "- **Identity** - No user and/or agent identity or access control\n",
    "- **Observability** - Limited observability into agent behavior\n",
    "- **Existing APIs** - No access to existing enterprise APIs for customer data\n",
    "\n",
    "##### Next Up [Lab 2: Personalize our agent by adding memory →](lab-02-agentcore-memory.ipynb)\n"
   ]
  },
  {
   "cell_type": "code",
   "execution_count": null,
   "metadata": {},
   "outputs": [],
   "source": []
  }
 ],
 "metadata": {
  "kernelspec": {
   "display_name": "Python 3 (ipykernel)",
   "language": "python",
   "name": "python3"
  },
  "language_info": {
   "codemirror_mode": {
    "name": "ipython",
    "version": 3
   },
   "file_extension": ".py",
   "mimetype": "text/x-python",
   "name": "python",
   "nbconvert_exporter": "python",
   "pygments_lexer": "ipython3",
   "version": "3.12.9"
  }
 },
 "nbformat": 4,
 "nbformat_minor": 4
}
